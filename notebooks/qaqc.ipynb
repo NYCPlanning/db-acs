{
 "cells": [
  {
   "source": [
    "import pandas as pd\n",
    "import json\n",
    "import sys\n",
    "import numpy as np\n",
    "sys.path.append(\"db-acs/\")\n",
    "from utils import format_geoid"
   ],
   "cell_type": "code",
   "outputs": [],
   "metadata": {},
   "execution_count": 4
  },
  {
   "cell_type": "code",
   "execution_count": 36,
   "metadata": {},
   "outputs": [],
   "source": [
    "df = pd.read_csv('../data/hous_final_pivoted.csv', index_col=False, low_memory=False)"
   ]
  },
  {
   "source": [
    "nta = pd.read_excel('db-acs/data/nyc2010census_tabulation_equiv.xlsx',\n",
    "                       skiprows=4, dtype=str,\n",
    "                       names=['borough', 'fips', 'borough_code', \n",
    "                              'tract', 'puma', 'nta_code', 'nta_name'])\n",
    "nta['GEO_ID'] = '1400000US36' + nta['fips'] + nta['tract']"
   ],
   "cell_type": "code",
   "outputs": [],
   "metadata": {},
   "execution_count": 4
  },
  {
   "source": [
    "meta = json.load(open('db-acs/data/soci_meta_lookup.json'))"
   ],
   "cell_type": "code",
   "outputs": [],
   "metadata": {},
   "execution_count": 51
  },
  {
   "source": [
    "lst = meta['DfHs1']"
   ],
   "cell_type": "code",
   "outputs": [],
   "metadata": {},
   "execution_count": 64
  },
  {
   "source": [
    "lst"
   ],
   "cell_type": "code",
   "outputs": [
    {
     "output_type": "execute_result",
     "data": {
      "text/plain": "['B07204_016', 'B07204_003']"
     },
     "metadata": {},
     "execution_count": 65
    }
   ],
   "metadata": {},
   "execution_count": 65
  },
  {
   "source": [
    "df = pd.read_csv('db-acs/data/soci_intermediate.csv', index_col=False, low_memory=False)"
   ],
   "cell_type": "code",
   "outputs": [],
   "metadata": {},
   "execution_count": 66
  },
  {
   "source": [
    "df['geoid'] = df['GEO_ID'].apply(format_geoid)"
   ],
   "cell_type": "code",
   "outputs": [],
   "metadata": {},
   "execution_count": 67
  },
  {
   "source": [
    "info = df.loc[df.geoid == '1025300', [i+'M' for i in lst]].to_dict('records')"
   ],
   "cell_type": "code",
   "outputs": [],
   "metadata": {},
   "execution_count": 69
  },
  {
   "source": [
    "info"
   ],
   "cell_type": "code",
   "outputs": [
    {
     "output_type": "execute_result",
     "data": {
      "text/plain": "[{'B07204_016M': 187.0, 'B07204_003M': 341.0}]"
     },
     "metadata": {},
     "execution_count": 70
    }
   ],
   "metadata": {},
   "execution_count": 70
  },
  {
   "source": [
    "sum([i**2 for i in info[0].values()])**0.5"
   ],
   "cell_type": "code",
   "outputs": [
    {
     "output_type": "execute_result",
     "data": {
      "text/plain": "388.90872965260115"
     },
     "metadata": {},
     "execution_count": 72
    }
   ],
   "metadata": {},
   "execution_count": 72
  },
  {
   "source": [
    "df.loc[df.geoid == '4012601', 'AsnEastM']"
   ],
   "cell_type": "code",
   "outputs": [
    {
     "output_type": "execute_result",
     "data": {
      "text/plain": "211    54.0\nName: AsnEastM, dtype: float64"
     },
     "metadata": {},
     "execution_count": 49
    }
   ],
   "metadata": {},
   "execution_count": 49
  },
  {
   "cell_type": "code",
   "execution_count": null,
   "metadata": {},
   "outputs": [],
   "source": []
  },
  {
   "source": [
    "df = pd.read_csv('db-acs/data/demo_final.csv')\n",
    "df['geoid'] = df['GEO_ID'].apply(format_geoid)"
   ],
   "cell_type": "code",
   "outputs": [],
   "metadata": {},
   "execution_count": 48
  },
  {
   "source": [
    "df.head()"
   ],
   "cell_type": "code",
   "outputs": [
    {
     "output_type": "execute_result",
     "data": {
      "text/plain": "  variablename producttype release_year profile category  _order base  \\\n0    PrdctType         NaN          NaN     NaN      NaN     NaN  NaN   \n1         Year         NaN          NaN     NaN      NaN     NaN  NaN   \n2      GeoType         NaN          NaN     NaN      NaN     NaN  NaN   \n3     GeogName         NaN          NaN     NaN      NaN     NaN  NaN   \n4        GeoID         NaN          NaN     NaN      NaN     NaN  NaN   \n\n  unittype notinprofile  infltnfctr10to16  \n0      NaN          NaN               NaN  \n1      NaN          NaN               NaN  \n2      NaN          NaN               NaN  \n3      NaN          NaN               NaN  \n4      NaN          NaN               NaN  ",
      "text/html": "<div>\n<style scoped>\n    .dataframe tbody tr th:only-of-type {\n        vertical-align: middle;\n    }\n\n    .dataframe tbody tr th {\n        vertical-align: top;\n    }\n\n    .dataframe thead th {\n        text-align: right;\n    }\n</style>\n<table border=\"1\" class=\"dataframe\">\n  <thead>\n    <tr style=\"text-align: right;\">\n      <th></th>\n      <th>variablename</th>\n      <th>producttype</th>\n      <th>release_year</th>\n      <th>profile</th>\n      <th>category</th>\n      <th>_order</th>\n      <th>base</th>\n      <th>unittype</th>\n      <th>notinprofile</th>\n      <th>infltnfctr10to16</th>\n    </tr>\n  </thead>\n  <tbody>\n    <tr>\n      <th>0</th>\n      <td>PrdctType</td>\n      <td>NaN</td>\n      <td>NaN</td>\n      <td>NaN</td>\n      <td>NaN</td>\n      <td>NaN</td>\n      <td>NaN</td>\n      <td>NaN</td>\n      <td>NaN</td>\n      <td>NaN</td>\n    </tr>\n    <tr>\n      <th>1</th>\n      <td>Year</td>\n      <td>NaN</td>\n      <td>NaN</td>\n      <td>NaN</td>\n      <td>NaN</td>\n      <td>NaN</td>\n      <td>NaN</td>\n      <td>NaN</td>\n      <td>NaN</td>\n      <td>NaN</td>\n    </tr>\n    <tr>\n      <th>2</th>\n      <td>GeoType</td>\n      <td>NaN</td>\n      <td>NaN</td>\n      <td>NaN</td>\n      <td>NaN</td>\n      <td>NaN</td>\n      <td>NaN</td>\n      <td>NaN</td>\n      <td>NaN</td>\n      <td>NaN</td>\n    </tr>\n    <tr>\n      <th>3</th>\n      <td>GeogName</td>\n      <td>NaN</td>\n      <td>NaN</td>\n      <td>NaN</td>\n      <td>NaN</td>\n      <td>NaN</td>\n      <td>NaN</td>\n      <td>NaN</td>\n      <td>NaN</td>\n      <td>NaN</td>\n    </tr>\n    <tr>\n      <th>4</th>\n      <td>GeoID</td>\n      <td>NaN</td>\n      <td>NaN</td>\n      <td>NaN</td>\n      <td>NaN</td>\n      <td>NaN</td>\n      <td>NaN</td>\n      <td>NaN</td>\n      <td>NaN</td>\n      <td>NaN</td>\n    </tr>\n  </tbody>\n</table>\n</div>"
     },
     "metadata": {},
     "execution_count": 8
    }
   ],
   "metadata": {},
   "execution_count": 8
  },
  {
   "source": [
    "d = df.loc[7:, ['variablename', 'base']].to_dict('records')"
   ],
   "cell_type": "code",
   "outputs": [],
   "metadata": {},
   "execution_count": 15
  },
  {
   "source": [
    "c = {}"
   ],
   "cell_type": "code",
   "outputs": [],
   "metadata": {},
   "execution_count": 18
  },
  {
   "source": [
    "for i in d:\n",
    "    c[i['variablename']] = i['base']"
   ],
   "cell_type": "code",
   "outputs": [],
   "metadata": {},
   "execution_count": 19
  },
  {
   "source": [
    "import json"
   ],
   "cell_type": "code",
   "outputs": [],
   "metadata": {},
   "execution_count": 24
  },
  {
   "source": [
    "with open('db-acs/data/base_lookup.json', 'w') as f:\n",
    "    json.dump(c, f, indent=4)"
   ],
   "cell_type": "code",
   "outputs": [],
   "metadata": {},
   "execution_count": 26
  },
  {
   "cell_type": "code",
   "execution_count": null,
   "metadata": {},
   "outputs": [],
   "source": []
  },
  {
   "source": [
    "df = pd.read_csv('db-acs/data/factfinder_metadata.csv')"
   ],
   "cell_type": "code",
   "outputs": [],
   "metadata": {},
   "execution_count": 7
  }
 ],
 "metadata": {
  "kernelspec": {
   "display_name": "Python 3",
   "language": "python",
   "name": "python3"
  },
  "language_info": {
   "codemirror_mode": {
    "name": "ipython",
    "version": 3
   },
   "file_extension": ".py",
   "mimetype": "text/x-python",
   "name": "python",
   "nbconvert_exporter": "python",
   "pygments_lexer": "ipython3",
   "version": "3.6.9"
  }
 },
 "nbformat": 4,
 "nbformat_minor": 2
}