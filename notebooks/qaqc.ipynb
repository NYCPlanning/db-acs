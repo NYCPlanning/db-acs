{
 "cells": [
  {
   "source": [
    "import pandas as pd\n",
    "import json\n",
    "import sys\n",
    "import numpy as np\n",
    "sys.path.append(\"db-acs/\")\n",
    "from utils import format_geoid"
   ],
   "cell_type": "code",
   "outputs": [],
   "metadata": {},
   "execution_count": 3
  },
  {
   "source": [
    "meta = json.load(open('db-acs/data/soci_meta_lookup.json'))"
   ],
   "cell_type": "code",
   "outputs": [],
   "metadata": {},
   "execution_count": 24
  },
  {
   "source": [
    "df = pd.read_csv('db-acs/data/soci_intermediate.csv')\n",
    "df['geoid'] = df['GEO_ID'].apply(format_geoid)"
   ],
   "cell_type": "code",
   "outputs": [],
   "metadata": {},
   "execution_count": 25
  },
  {
   "source": [
    "lst = meta['EA_BchDH']"
   ],
   "cell_type": "code",
   "outputs": [],
   "metadata": {},
   "execution_count": 26
  },
  {
   "source": [
    "lst"
   ],
   "cell_type": "code",
   "outputs": [
    {
     "output_type": "execute_result",
     "data": {
      "text/plain": "['DP02_0065', 'DP02_0064', 'DP02_0067']"
     },
     "metadata": {},
     "execution_count": 27
    }
   ],
   "metadata": {},
   "execution_count": 27
  },
  {
   "source": [
    "info = df.loc[df.geoid == '1021703', [i+'M' for i in lst]].to_dict('records')"
   ],
   "cell_type": "code",
   "outputs": [],
   "metadata": {},
   "execution_count": 30
  },
  {
   "source": [
    "info"
   ],
   "cell_type": "code",
   "outputs": [
    {
     "output_type": "execute_result",
     "data": {
      "text/plain": "[{'DP02_0065M': 6.0, 'DP02_0064M': nan, 'DP02_0067M': nan}]"
     },
     "metadata": {},
     "execution_count": 31
    }
   ],
   "metadata": {},
   "execution_count": 31
  },
  {
   "source": [
    "(90**2 + 347**2)**0.5"
   ],
   "cell_type": "code",
   "outputs": [
    {
     "output_type": "execute_result",
     "data": {
      "text/plain": "358.48151974683435"
     },
     "metadata": {},
     "execution_count": 9
    }
   ],
   "metadata": {},
   "execution_count": 9
  },
  {
   "cell_type": "code",
   "execution_count": 99,
   "metadata": {},
   "outputs": [],
   "source": [
    "tracts = nta.loc[nta.nta_code == 'QN63', 'GEO_ID'].to_list()"
   ]
  },
  {
   "cell_type": "code",
   "execution_count": 95,
   "metadata": {},
   "outputs": [],
   "source": [
    "\n",
    "nta = pd.read_excel('db-acs/data/nyc2010census_tabulation_equiv.xlsx',\n",
    "                       skiprows=4, dtype=str,\n",
    "                       names=['borough', 'fips', 'borough_code', \n",
    "                              'tract', 'puma', 'nta_code', 'nta_name'])\n",
    "nta['GEO_ID'] = '1400000US36' + nta['fips'] + nta['tract']"
   ]
  },
  {
   "cell_type": "code",
   "execution_count": 100,
   "metadata": {},
   "outputs": [],
   "source": [
    "info = df.loc[df.GEO_ID.isin(tracts), [i+'M' for i in lst]].to_dict('records')"
   ]
  },
  {
   "cell_type": "code",
   "execution_count": 101,
   "metadata": {},
   "outputs": [
    {
     "data": {
      "text/plain": "[{'B01001_019M': 84.0, 'B01001_018M': 34.0},\n {'B01001_019M': 85.0, 'B01001_018M': 87.0},\n {'B01001_019M': 12.0, 'B01001_018M': 10.0},\n {'B01001_019M': nan, 'B01001_018M': 20.0},\n {'B01001_019M': 19.0, 'B01001_018M': 18.0},\n {'B01001_019M': nan, 'B01001_018M': 109.0},\n {'B01001_019M': 27.0, 'B01001_018M': 31.0},\n {'B01001_019M': 7.0, 'B01001_018M': 19.0},\n {'B01001_019M': 83.0, 'B01001_018M': 65.0},\n {'B01001_019M': 31.0, 'B01001_018M': 13.0},\n {'B01001_019M': 53.0, 'B01001_018M': 40.0},\n {'B01001_019M': 106.0, 'B01001_018M': 54.0}]"
     },
     "execution_count": 101,
     "metadata": {},
     "output_type": "execute_result"
    }
   ],
   "source": [
    "info"
   ]
  },
  {
   "cell_type": "code",
   "execution_count": 104,
   "metadata": {},
   "outputs": [
    {
     "name": "stdout",
     "output_type": "stream",
     "text": "262.90872941003687\n"
    }
   ],
   "source": [
    "total = 0\n",
    "for r in info:\n",
    "    total += sum([i**2 for i in r.values() if ~np.isnan(i)])\n",
    "print(total**0.5)\n"
   ]
  },
  {
   "cell_type": "code",
   "execution_count": 106,
   "metadata": {},
   "outputs": [],
   "source": [
    "info = df.loc[df.geoid == 'QN63', [i+'M' for i in lst]].to_dict('records')"
   ]
  },
  {
   "cell_type": "code",
   "execution_count": 107,
   "metadata": {},
   "outputs": [
    {
     "data": {
      "text/plain": "262.90872941003687"
     },
     "execution_count": 107,
     "metadata": {},
     "output_type": "execute_result"
    }
   ],
   "source": [
    "sum([i**2 for i in info[0].values() if ~np.isnan(i)])**0.5"
   ]
  },
  {
   "source": [
    "lst = meta['AsnOAsn']\n",
    "info = df.loc[df.geoid == '4109', [i+'E' for i in lst]].to_dict('records')"
   ],
   "cell_type": "code",
   "outputs": [],
   "metadata": {},
   "execution_count": 108
  },
  {
   "source": [
    "info"
   ],
   "cell_type": "code",
   "outputs": [
    {
     "output_type": "execute_result",
     "data": {
      "text/plain": "[{'B02015_023E': 14.0, 'B02015_024E': 346.0}]"
     },
     "metadata": {},
     "execution_count": 109
    }
   ],
   "metadata": {},
   "execution_count": 109
  },
  {
   "source": [
    "sum(info[0].values())"
   ],
   "cell_type": "code",
   "outputs": [
    {
     "output_type": "execute_result",
     "data": {
      "text/plain": "360.0"
     },
     "metadata": {},
     "execution_count": 110
    }
   ],
   "metadata": {},
   "execution_count": 110
  },
  {
   "cell_type": "code",
   "execution_count": null,
   "metadata": {},
   "outputs": [],
   "source": [
    "df = pd.read_csv('db-acs/data/soci_intermediate.csv')\n",
    "df['geoid'] = df['GEO_ID'].apply(format_geoid)"
   ]
  }
 ],
 "metadata": {
  "kernelspec": {
   "display_name": "Python 3",
   "language": "python",
   "name": "python3"
  },
  "language_info": {
   "codemirror_mode": {
    "name": "ipython",
    "version": 3
   },
   "file_extension": ".py",
   "mimetype": "text/x-python",
   "name": "python",
   "nbconvert_exporter": "python",
   "pygments_lexer": "ipython3",
   "version": "3.6.9"
  }
 },
 "nbformat": 4,
 "nbformat_minor": 2
}