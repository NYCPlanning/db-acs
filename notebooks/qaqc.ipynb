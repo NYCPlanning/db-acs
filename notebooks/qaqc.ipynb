{
 "cells": [
  {
   "cell_type": "code",
   "execution_count": 1,
   "metadata": {},
   "outputs": [],
   "source": [
    "import pandas as pd"
   ]
  },
  {
   "cell_type": "code",
   "execution_count": 2,
   "metadata": {},
   "outputs": [],
   "source": [
    "df = pd.read_csv('../data/hous_final_pivoted.csv', index_col=False, low_memory=False)"
   ]
  },
  {
   "cell_type": "code",
   "execution_count": 3,
   "metadata": {},
   "outputs": [
    {
     "data": {
      "text/plain": [
       "{'rntvacrt', 'rntvacu'}"
      ]
     },
     "execution_count": 3,
     "metadata": {},
     "output_type": "execute_result"
    }
   ],
   "source": [
    "set([i for i in df.variable if 'rntvac' in i])"
   ]
  },
  {
   "cell_type": "code",
   "execution_count": 4,
   "metadata": {},
   "outputs": [
    {
     "data": {
      "text/html": [
       "<div>\n",
       "<style scoped>\n",
       "    .dataframe tbody tr th:only-of-type {\n",
       "        vertical-align: middle;\n",
       "    }\n",
       "\n",
       "    .dataframe tbody tr th {\n",
       "        vertical-align: top;\n",
       "    }\n",
       "\n",
       "    .dataframe thead th {\n",
       "        text-align: right;\n",
       "    }\n",
       "</style>\n",
       "<table border=\"1\" class=\"dataframe\">\n",
       "  <thead>\n",
       "    <tr style=\"text-align: right;\">\n",
       "      <th></th>\n",
       "      <th>c</th>\n",
       "      <th>e</th>\n",
       "      <th>m</th>\n",
       "      <th>p</th>\n",
       "      <th>z</th>\n",
       "    </tr>\n",
       "  </thead>\n",
       "  <tbody>\n",
       "    <tr>\n",
       "      <th>143002</th>\n",
       "      <td>57.595204</td>\n",
       "      <td>1.2625445127873098</td>\n",
       "      <td>1.196187</td>\n",
       "      <td>NaN</td>\n",
       "      <td>NaN</td>\n",
       "    </tr>\n",
       "  </tbody>\n",
       "</table>\n",
       "</div>"
      ],
      "text/plain": [
       "                c                   e         m   p   z\n",
       "143002  57.595204  1.2625445127873098  1.196187 NaN NaN"
      ]
     },
     "execution_count": 4,
     "metadata": {},
     "output_type": "execute_result"
    }
   ],
   "source": [
    "df.loc[(df.geoid == 'BK09')&(df.variable == 'RntVacRt'.lower()), ['c','e','m','p','z']]"
   ]
  },
  {
   "cell_type": "code",
   "execution_count": 6,
   "metadata": {},
   "outputs": [],
   "source": [
    "dff = df.head()"
   ]
  },
  {
   "cell_type": "code",
   "execution_count": 16,
   "metadata": {},
   "outputs": [],
   "source": [
    "dff.loc[:,'c'] = dff['c'].round(1)"
   ]
  },
  {
   "cell_type": "code",
   "execution_count": 17,
   "metadata": {},
   "outputs": [
    {
     "data": {
      "text/html": [
       "<div>\n",
       "<style scoped>\n",
       "    .dataframe tbody tr th:only-of-type {\n",
       "        vertical-align: middle;\n",
       "    }\n",
       "\n",
       "    .dataframe tbody tr th {\n",
       "        vertical-align: top;\n",
       "    }\n",
       "\n",
       "    .dataframe thead th {\n",
       "        text-align: right;\n",
       "    }\n",
       "</style>\n",
       "<table border=\"1\" class=\"dataframe\">\n",
       "  <thead>\n",
       "    <tr style=\"text-align: right;\">\n",
       "      <th></th>\n",
       "      <th>geotype</th>\n",
       "      <th>geogname</th>\n",
       "      <th>geoid</th>\n",
       "      <th>dataset</th>\n",
       "      <th>variable</th>\n",
       "      <th>c</th>\n",
       "      <th>e</th>\n",
       "      <th>m</th>\n",
       "      <th>p</th>\n",
       "      <th>z</th>\n",
       "    </tr>\n",
       "  </thead>\n",
       "  <tbody>\n",
       "    <tr>\n",
       "      <th>0</th>\n",
       "      <td>NTA2010</td>\n",
       "      <td>Allerton-Pelham Gardens</td>\n",
       "      <td>BX31</td>\n",
       "      <td>Y2013-2017</td>\n",
       "      <td>r1kt1249</td>\n",
       "      <td>17.9</td>\n",
       "      <td>566.0</td>\n",
       "      <td>166.385095</td>\n",
       "      <td>14.062112</td>\n",
       "      <td>3.998902</td>\n",
       "    </tr>\n",
       "    <tr>\n",
       "      <th>1</th>\n",
       "      <td>NTA2010</td>\n",
       "      <td>Bedford Park-Fordham North</td>\n",
       "      <td>BX05</td>\n",
       "      <td>Y2013-2017</td>\n",
       "      <td>r1kt1249</td>\n",
       "      <td>6.0</td>\n",
       "      <td>5033.0</td>\n",
       "      <td>493.928132</td>\n",
       "      <td>27.311700</td>\n",
       "      <td>2.624117</td>\n",
       "    </tr>\n",
       "    <tr>\n",
       "      <th>2</th>\n",
       "      <td>NTA2010</td>\n",
       "      <td>Belmont</td>\n",
       "      <td>BX06</td>\n",
       "      <td>Y2013-2017</td>\n",
       "      <td>r1kt1249</td>\n",
       "      <td>10.0</td>\n",
       "      <td>2008.0</td>\n",
       "      <td>330.352842</td>\n",
       "      <td>22.857143</td>\n",
       "      <td>3.693651</td>\n",
       "    </tr>\n",
       "    <tr>\n",
       "      <th>3</th>\n",
       "      <td>NTA2010</td>\n",
       "      <td>Bronxdale</td>\n",
       "      <td>BX07</td>\n",
       "      <td>Y2013-2017</td>\n",
       "      <td>r1kt1249</td>\n",
       "      <td>8.2</td>\n",
       "      <td>2706.0</td>\n",
       "      <td>366.025955</td>\n",
       "      <td>22.686117</td>\n",
       "      <td>2.999217</td>\n",
       "    </tr>\n",
       "    <tr>\n",
       "      <th>4</th>\n",
       "      <td>NTA2010</td>\n",
       "      <td>Claremont-Bathgate</td>\n",
       "      <td>BX01</td>\n",
       "      <td>Y2013-2017</td>\n",
       "      <td>r1kt1249</td>\n",
       "      <td>8.4</td>\n",
       "      <td>2166.0</td>\n",
       "      <td>298.673735</td>\n",
       "      <td>20.499716</td>\n",
       "      <td>2.798064</td>\n",
       "    </tr>\n",
       "  </tbody>\n",
       "</table>\n",
       "</div>"
      ],
      "text/plain": [
       "   geotype                    geogname geoid     dataset  variable     c  \\\n",
       "0  NTA2010     Allerton-Pelham Gardens  BX31  Y2013-2017  r1kt1249  17.9   \n",
       "1  NTA2010  Bedford Park-Fordham North  BX05  Y2013-2017  r1kt1249   6.0   \n",
       "2  NTA2010                     Belmont  BX06  Y2013-2017  r1kt1249  10.0   \n",
       "3  NTA2010                   Bronxdale  BX07  Y2013-2017  r1kt1249   8.2   \n",
       "4  NTA2010          Claremont-Bathgate  BX01  Y2013-2017  r1kt1249   8.4   \n",
       "\n",
       "        e           m          p         z  \n",
       "0   566.0  166.385095  14.062112  3.998902  \n",
       "1  5033.0  493.928132  27.311700  2.624117  \n",
       "2  2008.0  330.352842  22.857143  3.693651  \n",
       "3  2706.0  366.025955  22.686117  2.999217  \n",
       "4  2166.0  298.673735  20.499716  2.798064  "
      ]
     },
     "execution_count": 17,
     "metadata": {},
     "output_type": "execute_result"
    }
   ],
   "source": [
    "dff"
   ]
  },
  {
   "cell_type": "code",
   "execution_count": 36,
   "metadata": {},
   "outputs": [
    {
     "data": {
      "text/html": [
       "<div>\n",
       "<style scoped>\n",
       "    .dataframe tbody tr th:only-of-type {\n",
       "        vertical-align: middle;\n",
       "    }\n",
       "\n",
       "    .dataframe tbody tr th {\n",
       "        vertical-align: top;\n",
       "    }\n",
       "\n",
       "    .dataframe thead th {\n",
       "        text-align: right;\n",
       "    }\n",
       "</style>\n",
       "<table border=\"1\" class=\"dataframe\">\n",
       "  <thead>\n",
       "    <tr style=\"text-align: right;\">\n",
       "      <th></th>\n",
       "      <th>c</th>\n",
       "      <th>e</th>\n",
       "      <th>m</th>\n",
       "      <th>p</th>\n",
       "      <th>z</th>\n",
       "    </tr>\n",
       "  </thead>\n",
       "  <tbody>\n",
       "    <tr>\n",
       "      <th>13049</th>\n",
       "      <td>99.184131</td>\n",
       "      <td>1.9</td>\n",
       "      <td>3.1</td>\n",
       "      <td>NaN</td>\n",
       "      <td>NaN</td>\n",
       "    </tr>\n",
       "  </tbody>\n",
       "</table>\n",
       "</div>"
      ],
      "text/plain": [
       "               c    e    m   p   z\n",
       "13049  99.184131  1.9  3.1 NaN NaN"
      ]
     },
     "execution_count": 36,
     "metadata": {},
     "output_type": "execute_result"
    }
   ],
   "source": [
    "df.loc[(df.geoid == '5029103')&(df.variable == 'hovacrt'), \n",
    "       ['c','e','m','p','z']]"
   ]
  },
  {
   "cell_type": "code",
   "execution_count": 37,
   "metadata": {},
   "outputs": [
    {
     "data": {
      "text/plain": [
       "52.10594876248372"
      ]
     },
     "execution_count": 37,
     "metadata": {},
     "output_type": "execute_result"
    }
   ],
   "source": [
    "m = 2.4\n",
    "e = 2.8\n",
    "m/1.645/e*100"
   ]
  },
  {
   "cell_type": "code",
   "execution_count": null,
   "metadata": {},
   "outputs": [],
   "source": []
  }
 ],
 "metadata": {
  "kernelspec": {
   "display_name": "Python 3",
   "language": "python",
   "name": "python3"
  },
  "language_info": {
   "codemirror_mode": {
    "name": "ipython",
    "version": 3
   },
   "file_extension": ".py",
   "mimetype": "text/x-python",
   "name": "python",
   "nbconvert_exporter": "python",
   "pygments_lexer": "ipython3",
   "version": "3.6.8"
  }
 },
 "nbformat": 4,
 "nbformat_minor": 2
}
