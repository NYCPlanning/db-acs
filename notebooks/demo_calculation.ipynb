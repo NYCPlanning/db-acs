{
 "cells": [
  {
   "cell_type": "code",
   "execution_count": 1,
   "metadata": {},
   "outputs": [],
   "source": [
    "import requests\n",
    "import pandas as pd\n",
    "import numpy as np\n",
    "import functools \n",
    "import math\n",
    "import json"
   ]
  },
  {
   "cell_type": "code",
   "execution_count": 2,
   "metadata": {},
   "outputs": [],
   "source": [
    "df = pd.read_csv('../data/econ.csv', index_col=False)"
   ]
  },
  {
   "cell_type": "code",
   "execution_count": 3,
   "metadata": {},
   "outputs": [
    {
     "data": {
      "text/html": [
       "<div>\n",
       "<style scoped>\n",
       "    .dataframe tbody tr th:only-of-type {\n",
       "        vertical-align: middle;\n",
       "    }\n",
       "\n",
       "    .dataframe tbody tr th {\n",
       "        vertical-align: top;\n",
       "    }\n",
       "\n",
       "    .dataframe thead th {\n",
       "        text-align: right;\n",
       "    }\n",
       "</style>\n",
       "<table border=\"1\" class=\"dataframe\">\n",
       "  <thead>\n",
       "    <tr style=\"text-align: right;\">\n",
       "      <th></th>\n",
       "      <th>B00001_001E</th>\n",
       "      <th>GEO_ID</th>\n",
       "      <th>NAME</th>\n",
       "      <th>B19025_001E</th>\n",
       "      <th>B19025_001M</th>\n",
       "      <th>B00002_001E</th>\n",
       "      <th>B19101_001E</th>\n",
       "      <th>B19101_001M</th>\n",
       "      <th>B19101_002E</th>\n",
       "      <th>B19101_002M</th>\n",
       "      <th>...</th>\n",
       "      <th>S1701_C03_057E</th>\n",
       "      <th>S1701_C03_057M</th>\n",
       "      <th>S1701_C03_058E</th>\n",
       "      <th>S1701_C03_058M</th>\n",
       "      <th>S1701_C03_059E</th>\n",
       "      <th>S1701_C03_059M</th>\n",
       "      <th>S1701_C03_060E</th>\n",
       "      <th>S1701_C03_060M</th>\n",
       "      <th>S1701_C03_061E</th>\n",
       "      <th>S1701_C03_061M</th>\n",
       "    </tr>\n",
       "  </thead>\n",
       "  <tbody>\n",
       "    <tr>\n",
       "      <th>0</th>\n",
       "      <td>178502.0</td>\n",
       "      <td>0500000US36081</td>\n",
       "      <td>Queens County, New York</td>\n",
       "      <td>6.327066e+10</td>\n",
       "      <td>5.638763e+08</td>\n",
       "      <td>66895.0</td>\n",
       "      <td>525106</td>\n",
       "      <td>3428</td>\n",
       "      <td>21011</td>\n",
       "      <td>1074</td>\n",
       "      <td>...</td>\n",
       "      <td>27.3</td>\n",
       "      <td>1.2</td>\n",
       "      <td>-888888888</td>\n",
       "      <td>-888888888</td>\n",
       "      <td>3.4</td>\n",
       "      <td>0.3</td>\n",
       "      <td>34.5</td>\n",
       "      <td>1.2</td>\n",
       "      <td>50.0</td>\n",
       "      <td>1.0</td>\n",
       "    </tr>\n",
       "    <tr>\n",
       "      <th>1</th>\n",
       "      <td>34049.0</td>\n",
       "      <td>0500000US36085</td>\n",
       "      <td>Richmond County, New York</td>\n",
       "      <td>1.593129e+10</td>\n",
       "      <td>2.292098e+08</td>\n",
       "      <td>12571.0</td>\n",
       "      <td>123292</td>\n",
       "      <td>1275</td>\n",
       "      <td>6557</td>\n",
       "      <td>565</td>\n",
       "      <td>...</td>\n",
       "      <td>27.5</td>\n",
       "      <td>3.9</td>\n",
       "      <td>-888888888</td>\n",
       "      <td>-888888888</td>\n",
       "      <td>2.3</td>\n",
       "      <td>0.8</td>\n",
       "      <td>29.7</td>\n",
       "      <td>3.9</td>\n",
       "      <td>47.5</td>\n",
       "      <td>2.0</td>\n",
       "    </tr>\n",
       "    <tr>\n",
       "      <th>2</th>\n",
       "      <td>88079.0</td>\n",
       "      <td>0500000US36005</td>\n",
       "      <td>Bronx County, New York</td>\n",
       "      <td>2.661527e+10</td>\n",
       "      <td>2.815199e+08</td>\n",
       "      <td>32864.0</td>\n",
       "      <td>326296</td>\n",
       "      <td>2480</td>\n",
       "      <td>35225</td>\n",
       "      <td>1291</td>\n",
       "      <td>...</td>\n",
       "      <td>35.9</td>\n",
       "      <td>1.9</td>\n",
       "      <td>-888888888</td>\n",
       "      <td>-888888888</td>\n",
       "      <td>5.3</td>\n",
       "      <td>0.5</td>\n",
       "      <td>42.3</td>\n",
       "      <td>1.7</td>\n",
       "      <td>64.4</td>\n",
       "      <td>1.1</td>\n",
       "    </tr>\n",
       "    <tr>\n",
       "      <th>3</th>\n",
       "      <td>204504.0</td>\n",
       "      <td>0500000US36047</td>\n",
       "      <td>Kings County, New York</td>\n",
       "      <td>7.631058e+10</td>\n",
       "      <td>7.055398e+08</td>\n",
       "      <td>79792.0</td>\n",
       "      <td>585611</td>\n",
       "      <td>3176</td>\n",
       "      <td>37298</td>\n",
       "      <td>1130</td>\n",
       "      <td>...</td>\n",
       "      <td>42.6</td>\n",
       "      <td>1.3</td>\n",
       "      <td>-888888888</td>\n",
       "      <td>-888888888</td>\n",
       "      <td>3.1</td>\n",
       "      <td>0.2</td>\n",
       "      <td>32.1</td>\n",
       "      <td>0.9</td>\n",
       "      <td>62.9</td>\n",
       "      <td>0.7</td>\n",
       "    </tr>\n",
       "    <tr>\n",
       "      <th>4</th>\n",
       "      <td>79095.0</td>\n",
       "      <td>0500000US36061</td>\n",
       "      <td>New York County, New York</td>\n",
       "      <td>1.107329e+11</td>\n",
       "      <td>1.685630e+09</td>\n",
       "      <td>39216.0</td>\n",
       "      <td>320700</td>\n",
       "      <td>3617</td>\n",
       "      <td>17678</td>\n",
       "      <td>1226</td>\n",
       "      <td>...</td>\n",
       "      <td>26.8</td>\n",
       "      <td>1.4</td>\n",
       "      <td>-888888888</td>\n",
       "      <td>-888888888</td>\n",
       "      <td>2.0</td>\n",
       "      <td>0.2</td>\n",
       "      <td>26.3</td>\n",
       "      <td>1.1</td>\n",
       "      <td>53.6</td>\n",
       "      <td>1.1</td>\n",
       "    </tr>\n",
       "  </tbody>\n",
       "</table>\n",
       "<p>5 rows × 1662 columns</p>\n",
       "</div>"
      ],
      "text/plain": [
       "   B00001_001E          GEO_ID                       NAME   B19025_001E  \\\n",
       "0     178502.0  0500000US36081    Queens County, New York  6.327066e+10   \n",
       "1      34049.0  0500000US36085  Richmond County, New York  1.593129e+10   \n",
       "2      88079.0  0500000US36005     Bronx County, New York  2.661527e+10   \n",
       "3     204504.0  0500000US36047     Kings County, New York  7.631058e+10   \n",
       "4      79095.0  0500000US36061  New York County, New York  1.107329e+11   \n",
       "\n",
       "    B19025_001M  B00002_001E  B19101_001E  B19101_001M  B19101_002E  \\\n",
       "0  5.638763e+08      66895.0       525106         3428        21011   \n",
       "1  2.292098e+08      12571.0       123292         1275         6557   \n",
       "2  2.815199e+08      32864.0       326296         2480        35225   \n",
       "3  7.055398e+08      79792.0       585611         3176        37298   \n",
       "4  1.685630e+09      39216.0       320700         3617        17678   \n",
       "\n",
       "   B19101_002M  ...  S1701_C03_057E  S1701_C03_057M  S1701_C03_058E  \\\n",
       "0         1074  ...            27.3             1.2      -888888888   \n",
       "1          565  ...            27.5             3.9      -888888888   \n",
       "2         1291  ...            35.9             1.9      -888888888   \n",
       "3         1130  ...            42.6             1.3      -888888888   \n",
       "4         1226  ...            26.8             1.4      -888888888   \n",
       "\n",
       "   S1701_C03_058M  S1701_C03_059E  S1701_C03_059M  S1701_C03_060E  \\\n",
       "0      -888888888             3.4             0.3            34.5   \n",
       "1      -888888888             2.3             0.8            29.7   \n",
       "2      -888888888             5.3             0.5            42.3   \n",
       "3      -888888888             3.1             0.2            32.1   \n",
       "4      -888888888             2.0             0.2            26.3   \n",
       "\n",
       "   S1701_C03_060M  S1701_C03_061E  S1701_C03_061M  \n",
       "0             1.2            50.0             1.0  \n",
       "1             3.9            47.5             2.0  \n",
       "2             1.7            64.4             1.1  \n",
       "3             0.9            62.9             0.7  \n",
       "4             1.1            53.6             1.1  \n",
       "\n",
       "[5 rows x 1662 columns]"
      ]
     },
     "execution_count": 3,
     "metadata": {},
     "output_type": "execute_result"
    }
   ],
   "source": [
    "df.head()"
   ]
  },
  {
   "cell_type": "code",
   "execution_count": 4,
   "metadata": {},
   "outputs": [],
   "source": [
    "with open('../data/econ_meta_lookup.json', 'r') as f:\n",
    "    meta_lookup = json.load(f)"
   ]
  },
  {
   "cell_type": "code",
   "execution_count": 5,
   "metadata": {},
   "outputs": [
    {
     "data": {
      "text/plain": [
       "['Pop25t29', 'F16pl', 'FPop0t5', 'CvNIPop2', 'MPop35t39']"
      ]
     },
     "execution_count": 5,
     "metadata": {},
     "output_type": "execute_result"
    }
   ],
   "source": [
    "list(meta_lookup.keys())[:5]"
   ]
  },
  {
   "cell_type": "code",
   "execution_count": 6,
   "metadata": {},
   "outputs": [
    {
     "data": {
      "text/plain": [
       "['B01001_045', 'B01001_021']"
      ]
     },
     "execution_count": 6,
     "metadata": {},
     "output_type": "execute_result"
    }
   ],
   "source": [
    "meta_lookup['MdPop67t69']"
   ]
  },
  {
   "cell_type": "markdown",
   "metadata": {},
   "source": [
    "### Formula:\n",
    "https://www.census.gov/content/dam/Census/library/publications/2018/acs/acs_general_handbook_2018_ch08.pdf"
   ]
  },
  {
   "cell_type": "code",
   "execution_count": 17,
   "metadata": {},
   "outputs": [],
   "source": [
    "# e --> estimate, m --> moe\n",
    "def get_e(e):\n",
    "    return sum(e)\n",
    "\n",
    "def get_m(m):\n",
    "    return math.sqrt(sum(map(lambda x: x**2, m)))\n",
    "\n",
    "def get_c(e, m): \n",
    "    if e == 0:\n",
    "        return ''\n",
    "    else:\n",
    "        return m/1.645/e*100\n",
    "\n",
    "def get_p(e, agg_e):\n",
    "    if agg_e == 0: \n",
    "        return ''\n",
    "    else:\n",
    "        return e/agg_e*100\n",
    "\n",
    "def get_z(e, m, p, agg_e, agg_m):\n",
    "    if p == 0:\n",
    "        return ''\n",
    "    elif p == 100:\n",
    "        return ''\n",
    "    elif agg_e == 0:\n",
    "        return ''\n",
    "    elif m**2 - (e*agg_m/agg_e)**2 <0:\n",
    "        return math.sqrt(m**2 + (e*agg_m/agg_e)**2)/agg_e*100\n",
    "    else: \n",
    "        return math.sqrt(m**2 - (e*agg_m/agg_e)**2)/agg_e*100"
   ]
  },
  {
   "cell_type": "code",
   "execution_count": 18,
   "metadata": {},
   "outputs": [],
   "source": [
    "def find_total(variable, stat='E'):\n",
    "    if variable[0] == 'B' or variable[0] == 'C' : \n",
    "        return f\"{variable.split('_')[0]}_001{stat}\"\n",
    "    elif variable[0] == 'D': \n",
    "        return f\"{variable.split('_')[0]}_0001{stat}\"\n",
    "    else: #S1810_C01_001M\n",
    "        return f\"{'_'.join(variable.split('_')[:2])}_001{stat}\""
   ]
  },
  {
   "cell_type": "code",
   "execution_count": 19,
   "metadata": {},
   "outputs": [
    {
     "name": "stdout",
     "output_type": "stream",
     "text": [
      "CPU times: user 79.8 ms, sys: 39.3 ms, total: 119 ms\n",
      "Wall time: 121 ms\n"
     ]
    }
   ],
   "source": [
    "%%time\n",
    "i = 'MdEFFTWrk'\n",
    "variables = meta_lookup[i]\n",
    "all_columns = list(df.columns)\n",
    "e_variables = list(map(lambda x: all_columns.index(f'{x}E'), variables))\n",
    "m_variables = list(map(lambda x: all_columns.index(f'{x}M'), variables))\n",
    "total_e = find_total(variables[0], 'E')\n",
    "total_m = find_total(variables[0], 'M')\n",
    "dff = df.values"
   ]
  },
  {
   "cell_type": "code",
   "execution_count": 21,
   "metadata": {},
   "outputs": [
    {
     "name": "stdout",
     "output_type": "stream",
     "text": [
      "CPU times: user 443 ms, sys: 112 ms, total: 555 ms\n",
      "Wall time: 574 ms\n"
     ]
    }
   ],
   "source": [
    "%%time\n",
    "df.loc[:,f'{i}E'] = np.apply_along_axis(get_e, 1, dff[:, e_variables])\n",
    "df.loc[:,f'{i}M'] = np.apply_along_axis(get_m, 1, dff[:, m_variables])\n",
    "\n",
    "df.loc[:,f'{i}C'] = df.apply(lambda row: get_c(row[f'{i}E'], row[f'{i}M']), axis=1)\n",
    "\n",
    "if len(variables) == 1 and f'{variables[0]}PE' in df.columns:\n",
    "    '''\n",
    "    If for some of the records PE is already calculated, \n",
    "    then take them directly and calculate PE for the rest\n",
    "    '''\n",
    "    df.loc[:,f'{i}P'] \\\n",
    "        = df.loc[df[f'{variables[0]}PE'].isna(), :]\\\n",
    "            .apply(lambda row: get_p(row[f'{i}E'], row[total_e]), axis=1)    \n",
    "    \n",
    "    df.loc[:,f'{i}P']\\\n",
    "        = df.loc[~df[f'{variables[0]}PE'].isna(), :]\\\n",
    "            .loc[:,f'{variables[0]}PE']\n",
    "else: \n",
    "    df.loc[:,f'{i}P']\\\n",
    "        = df.apply(lambda row: get_p(row[f'{i}E'], row[total_e]), axis=1)\n",
    "\n",
    "if len(variables) == 1 and f'{variables[0]}PM' in df.columns:\n",
    "    '''\n",
    "    If for some of the records PM is already calculated, \n",
    "    then take them directly and calculate PM for the rest\n",
    "    '''\n",
    "    df.loc[:,f'{i}Z']\\\n",
    "        = df.loc[df[f'{variables[0]}PM'].isna(), :]\\\n",
    "            .apply(lambda row: get_z(row[f'{i}E'], \n",
    "                                     row[f'{i}M'], \n",
    "                                     row[f'{i}P'], \n",
    "                                     row[total_e],\n",
    "                                     row[total_m]), axis=1)\n",
    "\n",
    "    df.loc[:,f'{i}Z']\\\n",
    "        = df.loc[~df[f'{variables[0]}PM'].isna(), :]\\\n",
    "            .loc[:,f'{variables[0]}PM']\n",
    "else:\n",
    "    df.loc[:,f'{i}Z']\\\n",
    "        = df.apply(lambda row: get_z(row[f'{i}E'], \n",
    "                                     row[f'{i}M'], \n",
    "                                     row[f'{i}P'], \n",
    "                                     row[total_e],\n",
    "                                     row[total_m]), axis=1)"
   ]
  }
 ],
 "metadata": {
  "kernelspec": {
   "display_name": "Python 3",
   "language": "python",
   "name": "python3"
  },
  "language_info": {
   "codemirror_mode": {
    "name": "ipython",
    "version": 3
   },
   "file_extension": ".py",
   "mimetype": "text/x-python",
   "name": "python",
   "nbconvert_exporter": "python",
   "pygments_lexer": "ipython3",
   "version": "3.6.8"
  }
 },
 "nbformat": 4,
 "nbformat_minor": 4
}
