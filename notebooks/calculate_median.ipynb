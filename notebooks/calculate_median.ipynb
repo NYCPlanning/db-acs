{
 "cells": [
  {
   "cell_type": "code",
   "execution_count": 36,
   "metadata": {},
   "outputs": [],
   "source": [
    "import requests\n",
    "import pandas as pd\n",
    "import numpy as np\n",
    "import functools \n",
    "import math\n",
    "import json"
   ]
  },
  {
   "cell_type": "markdown",
   "metadata": {},
   "source": [
    "https://github.com/NYCPlanning/labs-factfinder-api/blob/develop/special-calculations/data/bins.js"
   ]
  },
  {
   "cell_type": "code",
   "execution_count": 37,
   "metadata": {},
   "outputs": [],
   "source": [
    "def format_geoid(geoid):\n",
    "    fips_lookup = {\n",
    "        '05': '2',\n",
    "        '47': '3',\n",
    "        '61': '1',\n",
    "        '81': '4',\n",
    "        '85': '5',}\n",
    "    # NTA\n",
    "    if geoid[:2] in ['MN', 'QN', 'BX', 'BK', 'SI']: \n",
    "        return geoid\n",
    "    # Community District (PUMA)\n",
    "    elif geoid[:2] == '79': \n",
    "        return geoid[-4:]\n",
    "    # Census tract (CT2010)\n",
    "    elif geoid[:2] == '14':\n",
    "        boro = fips_lookup.get(geoid[-8:-6])\n",
    "        return boro + geoid[-6:]\n",
    "    # Boro\n",
    "    elif geoid[:2] == '05': \n",
    "        return fips_lookup.get(geoid[-2:])\n",
    "    # City \n",
    "    elif geoid[:2] == '16':\n",
    "        return 0\n",
    "\n",
    "def assign_geotype(geoid): \n",
    "    # NTA\n",
    "    if geoid[:2] in ['MN', 'QN', 'BX', 'BK', 'SI']: \n",
    "        return 'NTA2010'\n",
    "    # Community District (PUMA)\n",
    "    elif geoid[:2] == '79': \n",
    "        return 'PUMA2010'\n",
    "    # Census tract (CT2010)\n",
    "    elif geoid[:2] == '14':\n",
    "        return 'CT2010'\n",
    "    # Boro\n",
    "    elif geoid[:2] == '05': \n",
    "        return 'Boro2010'\n",
    "    # City \n",
    "    elif geoid[:2] == '16':\n",
    "        return 'City2010'\n",
    "\n",
    "def assign_geogname(geotype, name, geoid):\n",
    "    boro_lookup = {\n",
    "        '1': 'Manhattan',\n",
    "        '2': 'Bronx', \n",
    "        '3': 'Brooklyn',\n",
    "        '4': 'Queens', \n",
    "        '5': 'Staten Island'}\n",
    "    if geotype == 'Boro2010': \n",
    "        return boro_lookup.get(geoid)\n",
    "    elif geotype == 'City2010': \n",
    "        return 'New York City'\n",
    "    elif geotype == 'CT2010': \n",
    "        return NTA.nta_code[NTA.boroct == geoid].to_list()[0]\n",
    "    elif geotype == 'PUMA2010': \n",
    "        return name\n",
    "    elif geotype == 'NTA2010': \n",
    "        return NTA.nta_name[NTA.nta_code == geoid].to_list()[0]\n",
    "\n",
    "NTA = pd.read_excel('../data/nyc2010census_tabulation_equiv.xlsx', \n",
    "                   skiprows=4, dtype=str,\n",
    "                  names=['borough', 'fips', 'borough_code', 'tract', 'puma', 'nta_code', 'nta_name'])\n",
    "NTA['boroct']=NTA['borough_code'] + NTA['tract']   "
   ]
  },
  {
   "cell_type": "code",
   "execution_count": 47,
   "metadata": {},
   "outputs": [],
   "source": [
    "# mdage = {'popu5': [0, 5],\n",
    "#  'pop5t9': [5, 9],\n",
    "#  'pop10t14': [10, 14],\n",
    "#  'pop15t19': [15, 19],\n",
    "#  'pop20t24': [20, 24],\n",
    "#  'pop25t29': [25, 29],\n",
    "#  'pop30t34': [30, 34],\n",
    "#  'pop35t39': [35, 39],\n",
    "#  'pop40t44': [40, 44],\n",
    "#  'pop45t49': [45, 49],\n",
    "#  'pop50t54': [50, 54],\n",
    "#  'pop55t59': [55, 59],\n",
    "#  'pop60t64': [60, 64],\n",
    "#  'pop65t69': [65, 69],\n",
    "#  'pop70t74': [70, 74],\n",
    "#  'pop75t79': [75, 79],\n",
    "#  'pop80t84': [80, 84],\n",
    "#  'pop85pl': [85, 115]}\n",
    "\n",
    "design_factor = {\n",
    "    'mdage':1.1,\n",
    "    'mdhhinc':1.5, \n",
    "    'mdfaminc':1.5,\n",
    "    'mdnfinc':1.5,\n",
    "    'mdewrk':1.6, \n",
    "    'mdemftwrk': 1.6,\n",
    "    'mdefftwrk':1.6,\n",
    "    'mdrms':1.5,\n",
    "    'mdvl':1.4,\n",
    "    'mdgr':1.6\n",
    "}\n",
    "\n",
    "mdage = {'mdpop0t4': [0, 4.9999],\n",
    "    'mdpop5t9': [5, 9.9999],\n",
    "    'mdpop10t14': [10, 14.9999],\n",
    "    'mdpop15t17': [15, 17.9999],\n",
    "    'mdpop18t19': [18, 19.9999],\n",
    "    'mdpop20': [20, 20.9999],\n",
    "    'mdpop21': [21, 21.9999],\n",
    "    'mdpop22t24': [22, 24.9999],\n",
    "    'mdpop25t29': [25, 29.9999],\n",
    "    'mdpop30t34': [30, 34.9999],\n",
    "    'mdpop35t39': [35, 39.9999],\n",
    "    'mdpop40t44': [40, 44.9999],\n",
    "    'mdpop45t49': [45, 49.9999],\n",
    "    'mdpop50t54': [50, 54.9999],\n",
    "    'mdpop55t59': [55, 59.9999],\n",
    "    'mdpop60t61': [60, 61.9999],\n",
    "    'mdpop62t64': [62, 64.9999],\n",
    "    'mdpop65t66': [65, 66.9999],\n",
    "    'mdpop67t69': [67, 69.9999],\n",
    "    'mdpop70t74': [70, 74.9999],\n",
    "    'mdpop75t79': [75, 79.9999],\n",
    "    'mdpop80t84': [80, 84.9999],\n",
    "    'mdpop85pl': [85, 115]}\n",
    "\n",
    "mdhhinc = {'mdhhiu10': [0, 9999],\n",
    " 'mdhhi10t14': [10000, 14999],\n",
    " 'mdhhi15t19': [15000, 19999],\n",
    " 'mdhhi20t24': [20000, 24999],\n",
    " 'mdhhi25t29': [25000, 29999],\n",
    " 'mdhhi30t34': [30000, 34999],\n",
    " 'mdhhi35t39': [35000, 39999],\n",
    " 'mdhhi40t44': [40000, 44999],\n",
    " 'mdhhi45t49': [45000, 49999],\n",
    " 'mdhhi50t59': [50000, 59999],\n",
    " 'mdhhi60t74': [60000, 74999],\n",
    " 'mdhhi75t99': [75000, 99999],\n",
    " 'mdhi100t124': [100000, 124999],\n",
    " 'mdhi125t149': [125000, 149999],\n",
    " 'mdhi150t199': [150000, 199999],\n",
    " 'mdhhi200pl': [200000, 9999999]}\n",
    "\n",
    "mdfaminc = {\n",
    " 'mdfamiu10': [0, 9999],\n",
    " 'mdfami10t14': [10000, 14999],\n",
    " 'mdfami15t19': [15000, 19999],\n",
    " 'mdfami20t24': [20000, 24999],\n",
    " 'mdfami25t29': [25000, 29999],\n",
    " 'mdfami30t34': [30000, 34999],\n",
    " 'mdfami35t39': [35000, 39999],\n",
    " 'mdfami40t44': [40000, 44999],\n",
    " 'mdfami45t49': [45000, 49999],\n",
    " 'mdfami50t59': [50000, 59999],\n",
    " 'mdfami60t74': [60000, 74999],\n",
    " 'mdfami75t99': [75000, 99999],\n",
    " 'mdfi100t124': [100000, 124999],\n",
    " 'mdfi125t149': [125000, 149999],\n",
    " 'mdfi150t199': [150000, 199999],\n",
    " 'mdfami200pl': [200000, 9999999]}\n",
    "\n",
    "mdnfinc = {'nfmiu10': [0, 9999],\n",
    " 'nfmi10t14': [10000, 14999],\n",
    " 'nfmi15t19': [15000, 19999],\n",
    " 'nfmi20t24': [20000, 24999],\n",
    " 'nfmi25t29': [25000, 29999],\n",
    " 'nfmi30t34': [30000, 34999],\n",
    " 'nfmi35t39': [35000, 39999],\n",
    " 'nfmi40t44': [40000, 44999],\n",
    " 'nfmi45t49': [45000, 49999],\n",
    " 'nfmi50t59': [50000, 59999],\n",
    " 'nfmi60t74': [60000, 74999],\n",
    " 'nfmi75t99': [75000, 99999],\n",
    " 'nf100t124': [100000, 124999],\n",
    " 'nf125t149': [125000, 149999],\n",
    " 'nf150t199': [150000, 199999],\n",
    " 'nfi200pl': [200000, 9999999]}\n",
    "\n",
    "mdewrk = {'ernu2pt5k': [0, 2499],\n",
    " 'ern2pt5t5': [2500, 4999],\n",
    " 'ern5t7pt5': [5000, 7499],\n",
    " 'e7pt5t10': [7500, 9999],\n",
    " 'e10t12pt5': [10000, 12499],\n",
    " 'e12pt5t15': [12500, 14999],\n",
    " 'e15t17pt5': [15000, 17499],\n",
    " 'e17pt5t20': [17500, 19999],\n",
    " 'e20t22pt5': [20000, 22499],\n",
    " 'e22pt5t25': [22500, 24999],\n",
    " 'ern25t30': [25000, 29999],\n",
    " 'ern30t35': [30000, 34999],\n",
    " 'ern35t40': [35000, 39999],\n",
    " 'ern40t45': [40000, 44999],\n",
    " 'ern45t50': [45000, 49999],\n",
    " 'ern50t55': [50000, 54999],\n",
    " 'ern55t65': [55000, 64999],\n",
    " 'ern65t75': [65000, 74999],\n",
    " 'ern75t100': [75000, 99999],\n",
    " 'ern100pl': [100000, 250000]}\n",
    "\n",
    "mdemftwrk = {'mftu2pt5k': [0, 2499],\n",
    " 'mft2p5t5': [2500, 4999],\n",
    " 'mft5t7p5': [5000, 7499],\n",
    " 'mft7p5t10': [7500, 9999],\n",
    " 'mf10t12p5': [10000, 12499],\n",
    " 'mf12p5t15': [12500, 14999],\n",
    " 'mf15t17p5': [15000, 17499],\n",
    " 'mf17p5t20': [17500, 19999],\n",
    " 'mf20t22p5': [20000, 22499],\n",
    " 'mf22p5t25': [22500, 24999],\n",
    " 'mft25t30': [25000, 29999],\n",
    " 'mft30t35': [30000, 34999],\n",
    " 'mft35t40': [35000, 39999],\n",
    " 'mft40t45': [40000, 44999],\n",
    " 'mft45t50': [45000, 49999],\n",
    " 'mft50t55': [50000, 54999],\n",
    " 'mft55t65': [55000, 64999],\n",
    " 'mft65t75': [65000, 74999],\n",
    " 'mft75t100': [75000, 99999],\n",
    " 'mft100pl': [100000, 250000]}\n",
    "\n",
    "mdefftwrk= {'fftu2pt5k': [0, 2499],\n",
    " 'fft2p5t5': [2500, 4999],\n",
    " 'fft5t7p5': [5000, 7499],\n",
    " 'fft7p5t10': [7500, 9999],\n",
    " 'ff10t12p5': [10000, 12499],\n",
    " 'ff12p5t15': [12500, 14999],\n",
    " 'ff15t17p5': [15000, 17499],\n",
    " 'ff17p5t20': [17500, 19999],\n",
    " 'ff20t22p5': [20000, 22499],\n",
    " 'ff22p5t25': [22500, 24999],\n",
    " 'fft25t30': [25000, 29999],\n",
    " 'fft30t35': [30000, 34999],\n",
    " 'fft35t40': [35000, 39999],\n",
    " 'fft40t45': [40000, 44999],\n",
    " 'fft45t50': [45000, 49999],\n",
    " 'fft50t55': [50000, 54999],\n",
    " 'fft55t65': [55000, 64999],\n",
    " 'fft65t75': [65000, 74999],\n",
    " 'fft75t100': [75000, 99999],\n",
    " 'fft100pl': [100000, 250000]}\n",
    "\n",
    "mdvl = {'ovlu10': [0, 9999],\n",
    " 'ovl10t14': [10000, 14999],\n",
    " 'ovl15t19': [15000, 19999],\n",
    " 'ovl20t24': [20000, 24999],\n",
    " 'ovl25t29': [25000, 29999],\n",
    " 'ovl30t34': [30000, 34999],\n",
    " 'ovl35t39': [35000, 39999],\n",
    " 'ovl40t49': [40000, 49999],\n",
    " 'ovl50t59': [50000, 59999],\n",
    " 'ovl60t69': [60000, 69999],\n",
    " 'ovl70t79': [70000, 79999],\n",
    " 'ovl80t89': [80000, 89999],\n",
    " 'ovl90t99': [90000, 99999],\n",
    " 'ov100t124': [100000, 124999],\n",
    " 'ov125t149': [125000, 149999],\n",
    " 'ov150t174': [150000, 174999],\n",
    " 'ov175t199': [175000, 199999],\n",
    " 'ov200t249': [200000, 249999],\n",
    " 'ov250t299': [250000, 299999],\n",
    " 'ov300t399': [300000, 399999],\n",
    " 'ov400t499': [400000, 499999],\n",
    " 'ov500t749': [500000, 749999],\n",
    " 'ov750t999': [750000, 999999],\n",
    " 'ov1t149m': [1000000, 1499999],\n",
    " 'ov150t199m': [1500000, 1999999],\n",
    " 'ov2milpl': [2000000, 5000000]}\n",
    "\n",
    "mdgr = {'ru100': [0, 99],\n",
    " 'r100t149': [100, 149],\n",
    " 'r150t199': [150, 199],\n",
    " 'r200t249': [200, 249],\n",
    " 'r250t299': [250, 299],\n",
    " 'r300t349': [300, 349],\n",
    " 'r350t399': [350, 399],\n",
    " 'r400t449': [400, 449],\n",
    " 'r450t499': [450, 499],\n",
    " 'r500t549': [500, 549],\n",
    " 'r550t599': [550, 599],\n",
    " 'r600t649': [600, 649],\n",
    " 'r650t699': [650, 699],\n",
    " 'r700t749': [700, 749],\n",
    " 'r750t799': [750, 799],\n",
    " 'r800t899': [800, 899],\n",
    " 'r900t999': [900, 999],\n",
    " 'r1kt1249': [1000, 1249],\n",
    " 'r1250t1p5': [1250, 1499],\n",
    " 'r1p5t1999': [1500, 1999],\n",
    " 'r2kt2499': [2000, 2499],\n",
    " 'r2p5t2999': [2500, 2999],\n",
    " 'r3kt3499': [3000, 3499],\n",
    " 'r3500pl': [3500, 9000]}\n",
    "\n",
    "mdrms = {'rms1': [0, 1.499],\n",
    " 'rms2': [1.500, 2.499],\n",
    " 'rms3': [2.500, 3.499],\n",
    " 'rms4': [3.500, 4.499],\n",
    " 'rms5': [4.500, 5.499],\n",
    " 'rms6': [5.500, 6.499],\n",
    " 'rms7': [6.500, 7.499],\n",
    " 'rms8': [7.500, 8.499],\n",
    " 'rms9pl': [8.500, 9.000]}"
   ]
  },
  {
   "cell_type": "code",
   "execution_count": 39,
   "metadata": {},
   "outputs": [],
   "source": [
    "def get_c(e, m): \n",
    "    if e == 0:\n",
    "        return np.nan\n",
    "    else:\n",
    "        return m/1.645/e*100"
   ]
  },
  {
   "cell_type": "code",
   "execution_count": 40,
   "metadata": {},
   "outputs": [],
   "source": [
    "def get_median(buckets, row):\n",
    "    ordered = list(buckets.keys())\n",
    "    orderedE = [i+'e' for i in ordered]\n",
    "    N = row[orderedE].sum()\n",
    "    C = 0\n",
    "    i = 0\n",
    "    while C <= N/2 and i<=len(buckets.keys())-1:\n",
    "        C += int(row[orderedE[i]])\n",
    "        i += 1\n",
    "    i = i-1\n",
    "    if i == 0:\n",
    "        median = list(buckets.values())[0][1]\n",
    "    elif C == 0: \n",
    "        median =0\n",
    "    elif i == len(buckets.keys())-1:\n",
    "        median = list(buckets.values())[-1][1]\n",
    "    else: \n",
    "        C = C - int(row[orderedE[i]])\n",
    "        L = buckets[ordered[i]][0]\n",
    "        F = int(row[orderedE[i]])\n",
    "        W = buckets[ordered[i]][1] - buckets[ordered[i]][0]\n",
    "        median = L + (N/2 - C)*W/F\n",
    "    return median\n",
    "\n",
    "def get_median_moe(buckets, row, DF=1.1):\n",
    "    ordered = list(buckets.keys())\n",
    "    orderedE = [i+'e' for i in ordered]\n",
    "    B = row[orderedE].sum()\n",
    "    if B == 0: \n",
    "        return np.nan\n",
    "    else:\n",
    "        cumm_dist = list(np.cumsum(row[orderedE])/B*100)\n",
    "\n",
    "        se_50 = DF*(((93/(7*B))*2500))**0.5\n",
    "        \n",
    "        if se_50 >= 50:\n",
    "            return np.nan\n",
    "        else: \n",
    "            p_lower = 50 - se_50\n",
    "            p_upper = 50 + se_50\n",
    "            \n",
    "            lower_bin = min([cumm_dist.index(i) for i in cumm_dist if i > p_lower])\n",
    "            upper_bin = min([cumm_dist.index(i) for i in cumm_dist if i > p_upper])\n",
    "            \n",
    "            if lower_bin >= len(ordered)-1 or upper_bin >= len(ordered)-1:\n",
    "                return np.nan\n",
    "            else:\n",
    "                if lower_bin == upper_bin:\n",
    "                    A1 = min(buckets[ordered[lower_bin]])\n",
    "                    A2 = min(buckets[ordered[lower_bin+1]])\n",
    "                    C1 = cumm_dist[lower_bin-1]\n",
    "                    C2 = cumm_dist[lower_bin]\n",
    "                    lowerbound = (p_lower - C1)*(A2-A1)/(C2-C1) + A1 \n",
    "                    upperbound = (p_upper - C1)*(A2-A1)/(C2-C1) + A1\n",
    "\n",
    "                else:\n",
    "                    A1_l = min(buckets[ordered[lower_bin]])\n",
    "                    A2_l = min(buckets[ordered[lower_bin+1]])\n",
    "                    C1_l = cumm_dist[lower_bin-1]\n",
    "                    C2_l = cumm_dist[lower_bin]\n",
    "\n",
    "                    A1_u = min(buckets[ordered[upper_bin]])\n",
    "                    A2_u = min(buckets[ordered[upper_bin+1]])\n",
    "                    C1_u = cumm_dist[upper_bin-1]\n",
    "                    C2_u = cumm_dist[upper_bin]\n",
    "\n",
    "                    lowerbound = (p_lower - C1_l)*(A2_l-A1_l)/(C2_l-C1_l) + A1_l \n",
    "                    upperbound = (p_upper - C1_u)*(A2_u-A1_u)/(C2_u-C1_u) + A1_u\n",
    "\n",
    "                return (upperbound - lowerbound)*1.645/2"
   ]
  },
  {
   "cell_type": "markdown",
   "metadata": {},
   "source": [
    "# Demo\n",
    "+ when calculating median MOE, what do I do when the p_lower is lower than the smallest possible value (suppose we get a negative p_lower for calculating mdage) ---> go with 0\n",
    "+ "
   ]
  },
  {
   "cell_type": "code",
   "execution_count": 41,
   "metadata": {},
   "outputs": [],
   "source": [
    "df = pd.read_csv('../data/econ_final.csv', index_col=False)\n",
    "df.columns = map(str.lower, df.columns)"
   ]
  },
  {
   "cell_type": "code",
   "execution_count": 42,
   "metadata": {},
   "outputs": [],
   "source": [
    "df['geoid'] = df['geo_id'].apply(format_geoid)\n",
    "df['geotype'] = df['geo_id'].apply(assign_geotype)\n",
    "df['geogname'] = df.apply(lambda row: assign_geogname(row['geotype'],row['name'],row['geoid']),  axis=1)"
   ]
  },
  {
   "cell_type": "code",
   "execution_count": 312,
   "metadata": {},
   "outputs": [],
   "source": [
    "df['mdagee'] = df.apply(lambda row: get_median(mdage, row), axis=1)\n",
    "df['mdagem'] = df.apply(lambda row: get_median_moe(mdage, row, DF=design_factor['mdage']), axis=1)\n",
    "df['mdagez'] = np.nan\n",
    "df['mdagep'] = np.nan\n",
    "df['mdagec'] = df.apply(lambda row: get_c(row['mdagee'], row['mdagem']), axis=1)"
   ]
  },
  {
   "cell_type": "code",
   "execution_count": 313,
   "metadata": {},
   "outputs": [
    {
     "data": {
      "text/html": [
       "<div>\n",
       "<style scoped>\n",
       "    .dataframe tbody tr th:only-of-type {\n",
       "        vertical-align: middle;\n",
       "    }\n",
       "\n",
       "    .dataframe tbody tr th {\n",
       "        vertical-align: top;\n",
       "    }\n",
       "\n",
       "    .dataframe thead th {\n",
       "        text-align: right;\n",
       "    }\n",
       "</style>\n",
       "<table border=\"1\" class=\"dataframe\">\n",
       "  <thead>\n",
       "    <tr style=\"text-align: right;\">\n",
       "      <th></th>\n",
       "      <th>geo_id</th>\n",
       "      <th>name</th>\n",
       "      <th>mdagec</th>\n",
       "      <th>mdagee</th>\n",
       "      <th>mdagem</th>\n",
       "    </tr>\n",
       "  </thead>\n",
       "  <tbody>\n",
       "    <tr>\n",
       "      <th>0</th>\n",
       "      <td>BX31</td>\n",
       "      <td>BX31</td>\n",
       "      <td>1.934730</td>\n",
       "      <td>41.905422</td>\n",
       "      <td>1.333695</td>\n",
       "    </tr>\n",
       "    <tr>\n",
       "      <th>1</th>\n",
       "      <td>BX05</td>\n",
       "      <td>BX05</td>\n",
       "      <td>1.583155</td>\n",
       "      <td>31.246894</td>\n",
       "      <td>0.813760</td>\n",
       "    </tr>\n",
       "    <tr>\n",
       "      <th>2</th>\n",
       "      <td>BX06</td>\n",
       "      <td>BX06</td>\n",
       "      <td>2.433943</td>\n",
       "      <td>25.420074</td>\n",
       "      <td>1.017778</td>\n",
       "    </tr>\n",
       "    <tr>\n",
       "      <th>3</th>\n",
       "      <td>BX07</td>\n",
       "      <td>BX07</td>\n",
       "      <td>1.939661</td>\n",
       "      <td>35.991236</td>\n",
       "      <td>1.148388</td>\n",
       "    </tr>\n",
       "    <tr>\n",
       "      <th>4</th>\n",
       "      <td>BX01</td>\n",
       "      <td>BX01</td>\n",
       "      <td>2.301918</td>\n",
       "      <td>27.706599</td>\n",
       "      <td>1.049154</td>\n",
       "    </tr>\n",
       "  </tbody>\n",
       "</table>\n",
       "</div>"
      ],
      "text/plain": [
       "  geo_id  name    mdagec     mdagee    mdagem\n",
       "0   BX31  BX31  1.934730  41.905422  1.333695\n",
       "1   BX05  BX05  1.583155  31.246894  0.813760\n",
       "2   BX06  BX06  2.433943  25.420074  1.017778\n",
       "3   BX07  BX07  1.939661  35.991236  1.148388\n",
       "4   BX01  BX01  2.301918  27.706599  1.049154"
      ]
     },
     "execution_count": 313,
     "metadata": {},
     "output_type": "execute_result"
    }
   ],
   "source": [
    "df[['geo_id','name', 'mdagec','mdagee', 'mdagem']].head()"
   ]
  },
  {
   "cell_type": "markdown",
   "metadata": {},
   "source": [
    "# Economics"
   ]
  },
  {
   "cell_type": "code",
   "execution_count": 314,
   "metadata": {},
   "outputs": [],
   "source": [
    "df = pd.read_csv('data/econ_final.csv', index_col=False)"
   ]
  },
  {
   "cell_type": "code",
   "execution_count": 315,
   "metadata": {},
   "outputs": [],
   "source": [
    "df.columns = map(str.lower, df.columns)\n",
    "df['geoid'] = df['geo_id'].apply(format_geoid)\n",
    "df['geotype'] = df['geo_id'].apply(assign_geotype)\n",
    "df['geogname'] = df.apply(lambda row: assign_geogname(row['geotype'],row['name'],row['geoid']),  axis=1)"
   ]
  },
  {
   "cell_type": "code",
   "execution_count": 316,
   "metadata": {},
   "outputs": [],
   "source": [
    "df['mdhhince'] = df.apply(lambda row: get_median(mdhhinc, row), axis=1)\n",
    "df['mdhhincm'] = df.apply(lambda row: get_median_moe(mdhhinc, row, DF=design_factor['mdhhinc']), axis=1)\n",
    "df['mdhhincc'] = df.apply(lambda row: get_c(row['mdhhince'], row['mdhhincm']), axis=1)\n",
    "df['mdhhincz'] = np.nan\n",
    "df['mdhhincp'] = np.nan"
   ]
  },
  {
   "cell_type": "code",
   "execution_count": 317,
   "metadata": {},
   "outputs": [
    {
     "data": {
      "text/html": [
       "<div>\n",
       "<style scoped>\n",
       "    .dataframe tbody tr th:only-of-type {\n",
       "        vertical-align: middle;\n",
       "    }\n",
       "\n",
       "    .dataframe tbody tr th {\n",
       "        vertical-align: top;\n",
       "    }\n",
       "\n",
       "    .dataframe thead th {\n",
       "        text-align: right;\n",
       "    }\n",
       "</style>\n",
       "<table border=\"1\" class=\"dataframe\">\n",
       "  <thead>\n",
       "    <tr style=\"text-align: right;\">\n",
       "      <th></th>\n",
       "      <th>geo_id</th>\n",
       "      <th>name</th>\n",
       "      <th>mdhhincc</th>\n",
       "      <th>mdhhince</th>\n",
       "      <th>mdhhincm</th>\n",
       "    </tr>\n",
       "  </thead>\n",
       "  <tbody>\n",
       "    <tr>\n",
       "      <th>0</th>\n",
       "      <td>BX31</td>\n",
       "      <td>BX31</td>\n",
       "      <td>6.818016</td>\n",
       "      <td>64015.219027</td>\n",
       "      <td>7179.714350</td>\n",
       "    </tr>\n",
       "    <tr>\n",
       "      <th>1</th>\n",
       "      <td>BX05</td>\n",
       "      <td>BX05</td>\n",
       "      <td>4.856838</td>\n",
       "      <td>35410.468349</td>\n",
       "      <td>2829.118652</td>\n",
       "    </tr>\n",
       "    <tr>\n",
       "      <th>2</th>\n",
       "      <td>BX06</td>\n",
       "      <td>BX06</td>\n",
       "      <td>8.200405</td>\n",
       "      <td>27349.957265</td>\n",
       "      <td>3689.417999</td>\n",
       "    </tr>\n",
       "    <tr>\n",
       "      <th>3</th>\n",
       "      <td>BX07</td>\n",
       "      <td>BX07</td>\n",
       "      <td>6.476068</td>\n",
       "      <td>36670.003671</td>\n",
       "      <td>3906.503680</td>\n",
       "    </tr>\n",
       "    <tr>\n",
       "      <th>4</th>\n",
       "      <td>BX01</td>\n",
       "      <td>BX01</td>\n",
       "      <td>6.202292</td>\n",
       "      <td>22926.001984</td>\n",
       "      <td>2339.087444</td>\n",
       "    </tr>\n",
       "  </tbody>\n",
       "</table>\n",
       "</div>"
      ],
      "text/plain": [
       "  geo_id  name  mdhhincc      mdhhince     mdhhincm\n",
       "0   BX31  BX31  6.818016  64015.219027  7179.714350\n",
       "1   BX05  BX05  4.856838  35410.468349  2829.118652\n",
       "2   BX06  BX06  8.200405  27349.957265  3689.417999\n",
       "3   BX07  BX07  6.476068  36670.003671  3906.503680\n",
       "4   BX01  BX01  6.202292  22926.001984  2339.087444"
      ]
     },
     "execution_count": 317,
     "metadata": {},
     "output_type": "execute_result"
    }
   ],
   "source": [
    "df[['geo_id','name', 'mdhhincc','mdhhince', 'mdhhincm']].head()"
   ]
  },
  {
   "cell_type": "code",
   "execution_count": 318,
   "metadata": {},
   "outputs": [],
   "source": [
    "df['mdfamince'] = df.apply(lambda row: get_median(mdfaminc, row), axis=1)\n",
    "df['mdfamincm'] = df.apply(lambda row: get_median_moe(mdfaminc, row, DF=design_factor['mdfaminc']), axis=1)\n",
    "df['mdfamincc'] = df.apply(lambda row: get_c(row['mdfamince'], row['mdfamincm']), axis=1)\n",
    "df['mdfamincz'] = np.nan\n",
    "df['mdfamincp'] = np.nan"
   ]
  },
  {
   "cell_type": "code",
   "execution_count": 319,
   "metadata": {},
   "outputs": [],
   "source": [
    "df['mdnfince'] = df.apply(lambda row: get_median(mdnfinc, row), axis=1)\n",
    "df['mdnfincm'] = df.apply(lambda row: get_median_moe(mdnfinc, row, DF=design_factor['mdnfinc']), axis=1)\n",
    "df['mdfamincc'] = df.apply(lambda row: get_c(row['mdfamince'], row['mdfamincm']), axis=1)\n",
    "df['mdnfincz'] = np.nan\n",
    "df['mdnfincp'] = np.nan"
   ]
  },
  {
   "cell_type": "code",
   "execution_count": 320,
   "metadata": {},
   "outputs": [],
   "source": [
    "df['mdemftwrke'] = df.apply(lambda row: get_median(mdemftwrk, row), axis=1)\n",
    "df['mdemftwrkm'] = df.apply(lambda row: get_median_moe(mdemftwrk, row, DF=design_factor['mdemftwrk']), axis=1)\n",
    "df['mdemftwrkc'] = df.apply(lambda row: get_c(row['mdemftwrke'], row['mdemftwrkm']), axis=1)\n",
    "df['mdemftwrkz'] = np.nan\n",
    "df['mdemftwrkp'] = np.nan"
   ]
  },
  {
   "cell_type": "code",
   "execution_count": 321,
   "metadata": {},
   "outputs": [],
   "source": [
    "df['mdefftwrke'] = df.apply(lambda row: get_median(mdefftwrk, row), axis=1)\n",
    "df['mdefftwrkm'] = df.apply(lambda row: get_median_moe(mdefftwrk, row, DF=design_factor['mdefftwrk']), axis=1)\n",
    "df['mdefftwrkc'] = df.apply(lambda row: get_c(row['mdefftwrke'], row['mdefftwrkm']), axis=1)\n",
    "df['mdefftwrkz'] = np.nan\n",
    "df['mdefftwrkp'] = np.nan"
   ]
  },
  {
   "cell_type": "markdown",
   "metadata": {},
   "source": [
    "## For the following calculations, only apply to NTAs"
   ]
  },
  {
   "cell_type": "code",
   "execution_count": 322,
   "metadata": {},
   "outputs": [],
   "source": [
    "df.loc[df.geoid=='NTA2010','percapince'] = df['agip15ple']/df['pop_6e']\n",
    "df.loc[df.geoid=='NTA2010','percapincm'] = np.sqrt(df['agip15plm']**2 + (df['agip15ple']*df['pop_6m']/df['pop_6e'])**2)*df['pop_6e']\n",
    "df.loc[df.geoid=='NTA2010','percapincc'] = df.apply(lambda row: get_c(row['percapince'], row['percapincm']), axis=1)\n",
    "df.loc[df.geoid=='NTA2010','percapincz'] = np.nan\n",
    "df.loc[df.geoid=='NTA2010','percapincp'] = np.nan"
   ]
  },
  {
   "cell_type": "code",
   "execution_count": 378,
   "metadata": {},
   "outputs": [],
   "source": [
    "df.loc[df.geoid=='NTA2010','mntrvtme'] = df['agttme']/(df['wrkr16ple']-df['cw_wrkdhme'])\n",
    "df.loc[df.geoid=='NTA2010','mntrvtmm'] = 1/df['wrkrnothme']*np.sqrt(df['agttmm']**2+(df['agttme']*df['wrkrnothmm']/df['wrkrnothme'])**2)\n",
    "df.loc[df.geoid=='NTA2010','mntrvtmc'] = df.apply(lambda row: get_c(row['mntrvtme'], row['mntrvtmm']), axis=1)\n",
    "df.loc[df.geoid=='NTA2010','mntrvtmz'] = np.nan\n",
    "df.loc[df.geoid=='NTA2010','mntrvtmp'] = np.nan"
   ]
  },
  {
   "cell_type": "code",
   "execution_count": 387,
   "metadata": {},
   "outputs": [],
   "source": [
    "df['mnhhince'] = df['aghhince']/df['hh2e']\n",
    "df['mnhhincm'] = 1/df['hh5e']*np.sqrt(df['aghhincm']**2+(df['aghhince']*df['hh5m']/df['hh5e'])**2)\n",
    "df['mnhhincc'] = df.apply(lambda row: get_c(row['mnhhince'], row['mnhhincm']), axis=1)\n",
    "df['mnhhincz'] = np.nan\n",
    "df['mnhhincp'] = np.nan"
   ]
  },
  {
   "cell_type": "code",
   "execution_count": 406,
   "metadata": {},
   "outputs": [],
   "source": [
    "df['cni1864_2z'] = np.nan\n",
    "df['cni1864_2p'] = np.nan\n",
    "df['cvlf18t64p'] = np.nan\n",
    "df['cvlf18t64z'] = np.nan"
   ]
  },
  {
   "cell_type": "markdown",
   "metadata": {},
   "source": [
    "# Housing\n",
    "\n",
    "* missing `rntvace|RntVacE` as a column --> update: change to `RntVacUE`"
   ]
  },
  {
   "cell_type": "code",
   "execution_count": 43,
   "metadata": {},
   "outputs": [],
   "source": [
    "def hovacrtm(hovacue, vacsalee, vacsalem, hovacum):\n",
    "    if hovacue == 0:\n",
    "        return 0\n",
    "    elif vacsalee == 0:\n",
    "        return 0\n",
    "    elif vacsalem**2 - (vacsalee*hovacum/hovacue)**2 <0:\n",
    "        return math.sqrt(vacsalem**2 + (vacsalee*hovacum/hovacue)**2)/hovacue*100\n",
    "    else: \n",
    "        return math.sqrt(vacsalem**2 - (vacsalee*hovacum/hovacue)**2)/hovacue*100"
   ]
  },
  {
   "cell_type": "code",
   "execution_count": 44,
   "metadata": {},
   "outputs": [],
   "source": [
    "df = pd.read_csv('../data/hous_final.csv', index_col=False)\n",
    "df.columns = map(str.lower, df.columns)\n",
    "df['geoid'] = df['geo_id'].apply(format_geoid)\n",
    "df['geotype'] = df['geo_id'].apply(assign_geotype)\n",
    "df['geogname'] = df.apply(lambda row: assign_geogname(row['geotype'],row['name'],row['geoid']),  axis=1)"
   ]
  },
  {
   "cell_type": "code",
   "execution_count": 11,
   "metadata": {},
   "outputs": [],
   "source": [
    "df['hovacrte'] = 100*df['hovacue']/df['vacsalee']\n",
    "df['hovacrtm'] = df.apply(lambda row: hovacrtm(row['hovacue'], row['vacsalee'], row['vacsalem'], row['hovacum']), axis=1)\n",
    "df['hovacrtz'] = np.nan\n",
    "df['hovacrtp'] = np.nan"
   ]
  },
  {
   "cell_type": "code",
   "execution_count": 12,
   "metadata": {},
   "outputs": [],
   "source": [
    "df['rntvacrte'] = 100*df['vacrnte']/df['rntvacue']\n",
    "df['hovacrtm'] = df.apply(lambda row: hovacrtm(row['hovacue'], row['vacsalee'], row['vacsalem'], row['hovacum']), axis=1)\n",
    "df['rntvacrtz'] = np.nan\n",
    "df['rntvacrtp'] = np.nan"
   ]
  },
  {
   "cell_type": "code",
   "execution_count": 13,
   "metadata": {},
   "outputs": [],
   "source": [
    "df['avghhsooce'] = df['popoochue']/df['oochu1e']\n",
    "df['avghhsoocm'] = (df['popoochum']**2 + (df['popoochue']*df['oochu4m']/df['oochu4e'])**2)**0.5/df['oochu4e']\n",
    "df['avghhsoocz'] = np.nan\n",
    "df['avghhsoocp'] = np.nan"
   ]
  },
  {
   "cell_type": "code",
   "execution_count": 14,
   "metadata": {},
   "outputs": [],
   "source": [
    "df['avghhsroce'] = df['poprtochue']/df['rochu1e']\n",
    "df['avghhsrocm'] = (df['poprtochum']**2 + (df['poprtochue']*df['rochu2m']/df['rochu2e'])**2)**0.5/df['rochu2e']\n",
    "df['avghhsrocz'] = np.nan\n",
    "df['avghhsrocp'] = np.nan"
   ]
  },
  {
   "cell_type": "code",
   "execution_count": 45,
   "metadata": {},
   "outputs": [],
   "source": [
    "df['mdrmse'] = df.apply(lambda row: get_median(mdrms, row), axis=1)\n",
    "df['mdrmsm'] = df.apply(lambda row: get_median_moe(mdrms, row, DF=design_factor['mdrms']), axis=1)\n",
    "df['mdrmsz'] = np.nan\n",
    "df['mdrmsp'] = np.nan"
   ]
  },
  {
   "cell_type": "markdown",
   "metadata": {},
   "source": [
    "# Social\n",
    "\n",
    "* column `fams3m` missing --> update: change to `fam3m`"
   ]
  },
  {
   "cell_type": "code",
   "execution_count": 340,
   "metadata": {},
   "outputs": [],
   "source": [
    "df = pd.read_csv('data/soci_final.csv', index_col=False)\n",
    "df.columns = map(str.lower, df.columns)\n",
    "df['geoid'] = df['geo_id'].apply(format_geoid)\n",
    "df['geotype'] = df['geo_id'].apply(assign_geotype)\n",
    "df['geogname'] = df.apply(lambda row: assign_geogname(row['geotype'],row['name'],row['geoid']),  axis=1)"
   ]
  },
  {
   "cell_type": "code",
   "execution_count": 330,
   "metadata": {},
   "outputs": [
    {
     "data": {
      "text/html": [
       "<div>\n",
       "<style scoped>\n",
       "    .dataframe tbody tr th:only-of-type {\n",
       "        vertical-align: middle;\n",
       "    }\n",
       "\n",
       "    .dataframe tbody tr th {\n",
       "        vertical-align: top;\n",
       "    }\n",
       "\n",
       "    .dataframe thead th {\n",
       "        text-align: right;\n",
       "    }\n",
       "</style>\n",
       "<table border=\"1\" class=\"dataframe\">\n",
       "  <thead>\n",
       "    <tr style=\"text-align: right;\">\n",
       "      <th></th>\n",
       "      <th>avgfmszc</th>\n",
       "      <th>avgfmsze</th>\n",
       "      <th>avgfmszm</th>\n",
       "    </tr>\n",
       "  </thead>\n",
       "  <tbody>\n",
       "    <tr>\n",
       "      <th>158</th>\n",
       "      <td>-5.415628</td>\n",
       "      <td>-9.333333e+09</td>\n",
       "      <td>8.314794e+08</td>\n",
       "    </tr>\n",
       "  </tbody>\n",
       "</table>\n",
       "</div>"
      ],
      "text/plain": [
       "     avgfmszc      avgfmsze      avgfmszm\n",
       "158 -5.415628 -9.333333e+09  8.314794e+08"
      ]
     },
     "execution_count": 330,
     "metadata": {},
     "output_type": "execute_result"
    }
   ],
   "source": [
    "# precalculation\n",
    "df.loc[(df.geoid == 'QN99'), ['avgfmszc','avgfmsze','avgfmszm']]"
   ]
  },
  {
   "cell_type": "code",
   "execution_count": 345,
   "metadata": {},
   "outputs": [],
   "source": [
    "df.loc[df.geotype=='NTA2010','avgfmsze'] = df['popinfmse']/df['fam1e']\n",
    "df.loc[df.geotype=='NTA2010','avgfmszm'] = (df['popinfmsm']**2 + (df['fam3m']*df['popinfmse']/df['fam3e'])**2)**0.5/df['fam3e']\n",
    "df.loc[df.geotype=='NTA2010','avgfmszc'] = df.apply(lambda row: get_c(row['avgfmsze'], row['avgfmszm']), axis=1)\n",
    "df['avgfmszz'] = np.nan\n",
    "df['avgfmszp'] = np.nan"
   ]
  },
  {
   "cell_type": "code",
   "execution_count": 346,
   "metadata": {},
   "outputs": [
    {
     "data": {
      "text/html": [
       "<div>\n",
       "<style scoped>\n",
       "    .dataframe tbody tr th:only-of-type {\n",
       "        vertical-align: middle;\n",
       "    }\n",
       "\n",
       "    .dataframe tbody tr th {\n",
       "        vertical-align: top;\n",
       "    }\n",
       "\n",
       "    .dataframe thead th {\n",
       "        text-align: right;\n",
       "    }\n",
       "</style>\n",
       "<table border=\"1\" class=\"dataframe\">\n",
       "  <thead>\n",
       "    <tr style=\"text-align: right;\">\n",
       "      <th></th>\n",
       "      <th>avgfmszc</th>\n",
       "      <th>avgfmsze</th>\n",
       "      <th>avgfmszm</th>\n",
       "    </tr>\n",
       "  </thead>\n",
       "  <tbody>\n",
       "    <tr>\n",
       "      <th>158</th>\n",
       "      <td>101.02868</td>\n",
       "      <td>2.382353</td>\n",
       "      <td>3.959284</td>\n",
       "    </tr>\n",
       "  </tbody>\n",
       "</table>\n",
       "</div>"
      ],
      "text/plain": [
       "      avgfmszc  avgfmsze  avgfmszm\n",
       "158  101.02868  2.382353  3.959284"
      ]
     },
     "execution_count": 346,
     "metadata": {},
     "output_type": "execute_result"
    }
   ],
   "source": [
    "df.loc[(df.geoid == 'QN99'), ['avgfmszc','avgfmsze','avgfmszm']]"
   ]
  },
  {
   "cell_type": "code",
   "execution_count": 334,
   "metadata": {},
   "outputs": [
    {
     "data": {
      "text/html": [
       "<div>\n",
       "<style scoped>\n",
       "    .dataframe tbody tr th:only-of-type {\n",
       "        vertical-align: middle;\n",
       "    }\n",
       "\n",
       "    .dataframe tbody tr th {\n",
       "        vertical-align: top;\n",
       "    }\n",
       "\n",
       "    .dataframe thead th {\n",
       "        text-align: right;\n",
       "    }\n",
       "</style>\n",
       "<table border=\"1\" class=\"dataframe\">\n",
       "  <thead>\n",
       "    <tr style=\"text-align: right;\">\n",
       "      <th></th>\n",
       "      <th>avgfmszc</th>\n",
       "      <th>avgfmsze</th>\n",
       "      <th>avgfmszm</th>\n",
       "    </tr>\n",
       "  </thead>\n",
       "  <tbody>\n",
       "    <tr>\n",
       "      <th>158</th>\n",
       "      <td>-5.415628</td>\n",
       "      <td>-9.333333e+09</td>\n",
       "      <td>8.314794e+08</td>\n",
       "    </tr>\n",
       "  </tbody>\n",
       "</table>\n",
       "</div>"
      ],
      "text/plain": [
       "     avgfmszc      avgfmsze      avgfmszm\n",
       "158 -5.415628 -9.333333e+09  8.314794e+08"
      ]
     },
     "execution_count": 334,
     "metadata": {},
     "output_type": "execute_result"
    }
   ],
   "source": [
    "#  post calculation\n",
    "df.loc[(df.geoid == 'QN99'), ['avgfmszc','avgfmsze','avgfmszm']]"
   ]
  },
  {
   "cell_type": "code",
   "execution_count": 282,
   "metadata": {},
   "outputs": [],
   "source": [
    "fam3e = 396\n",
    "fam3m = 110\n",
    "popinfmse = 1206\n",
    "popinfmsm = 381"
   ]
  },
  {
   "cell_type": "code",
   "execution_count": 284,
   "metadata": {},
   "outputs": [
    {
     "data": {
      "text/plain": [
       "1.2811420158630789"
      ]
     },
     "execution_count": 284,
     "metadata": {},
     "output_type": "execute_result"
    }
   ],
   "source": [
    "1/fam3e*((popinfmsm)**2+(popinfmse/fam3e)**2*(fam3m)**2)**0.5"
   ]
  }
 ],
 "metadata": {
  "kernelspec": {
   "display_name": "Python 3",
   "language": "python",
   "name": "python3"
  },
  "language_info": {
   "codemirror_mode": {
    "name": "ipython",
    "version": 3
   },
   "file_extension": ".py",
   "mimetype": "text/x-python",
   "name": "python",
   "nbconvert_exporter": "python",
   "pygments_lexer": "ipython3",
   "version": "3.6.8"
  }
 },
 "nbformat": 4,
 "nbformat_minor": 2
}
