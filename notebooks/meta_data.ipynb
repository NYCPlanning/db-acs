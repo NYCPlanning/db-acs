{
 "cells": [
  {
   "cell_type": "code",
   "execution_count": 60,
   "metadata": {},
   "outputs": [],
   "source": [
    "import requests\n",
    "import pandas as pd\n",
    "import numpy as np\n",
    "import json\n",
    "import os"
   ]
  },
  {
   "cell_type": "code",
   "execution_count": 61,
   "metadata": {},
   "outputs": [
    {
     "name": "stdout",
     "output_type": "stream",
     "text": [
      "The dotenv extension is already loaded. To reload it, use:\n",
      "  %reload_ext dotenv\n"
     ]
    }
   ],
   "source": [
    "%load_ext dotenv\n",
    "%dotenv"
   ]
  },
  {
   "cell_type": "code",
   "execution_count": 62,
   "metadata": {},
   "outputs": [],
   "source": [
    "api_key=os.environ['API_KEY']"
   ]
  },
  {
   "cell_type": "code",
   "execution_count": 63,
   "metadata": {},
   "outputs": [],
   "source": [
    "demo_groups = ['B01001', 'B05003', 'B02015', 'DP05', \n",
    "               'B03001']\n",
    "\n",
    "soci_groups = ['B11002', 'B04006', 'B11009', 'B05005', \n",
    "               'B05006', 'DP02', 'B07204', 'S1810']\n",
    "                \n",
    "econ_groups = ['B19025', 'B19101', 'B01001', 'B19201', \n",
    "               'B08013', 'B19313', 'B17010', 'B20005', \n",
    "                'B17024', 'DP03', 'B19001', 'S1701']\n",
    "                \n",
    "hous_groups = ['B25070', 'B25004', 'B25075', 'B25008', \n",
    "              'DP04', 'B25063']\n",
    "\n",
    "all_groups = demo_groups + soci_groups + econ_groups + hous_groups"
   ]
  },
  {
   "cell_type": "code",
   "execution_count": 7,
   "metadata": {},
   "outputs": [],
   "source": [
    "groups = json.loads(requests.get('https://api.census.gov/data/2017/acs/acs5/groups.json').content)\n",
    "profile_groups = json.loads(requests.get('https://api.census.gov/data/2017/acs/acs5/profile/groups.json').content)\n",
    "cprofile_groups = json.loads(requests.get('https://api.census.gov/data/2017/acs/acs5/cprofile/groups.json').content)\n",
    "subject_groups = json.loads(requests.get('https://api.census.gov/data/2017/acs/acs5/subject/groups.json').content)"
   ]
  },
  {
   "cell_type": "code",
   "execution_count": 8,
   "metadata": {},
   "outputs": [],
   "source": [
    "meta = pd.DataFrame(groups['groups']+profile_groups['groups']+cprofile_groups['groups']+subject_groups['groups'])"
   ]
  },
  {
   "cell_type": "code",
   "execution_count": 9,
   "metadata": {},
   "outputs": [],
   "source": [
    "meta = meta[meta['name'].isin(all_groups)]"
   ]
  },
  {
   "cell_type": "code",
   "execution_count": 11,
   "metadata": {},
   "outputs": [
    {
     "data": {
      "text/html": [
       "<div>\n",
       "<style scoped>\n",
       "    .dataframe tbody tr th:only-of-type {\n",
       "        vertical-align: middle;\n",
       "    }\n",
       "\n",
       "    .dataframe tbody tr th {\n",
       "        vertical-align: top;\n",
       "    }\n",
       "\n",
       "    .dataframe thead th {\n",
       "        text-align: right;\n",
       "    }\n",
       "</style>\n",
       "<table border=\"1\" class=\"dataframe\">\n",
       "  <thead>\n",
       "    <tr style=\"text-align: right;\">\n",
       "      <th></th>\n",
       "      <th>name</th>\n",
       "      <th>description</th>\n",
       "      <th>variables</th>\n",
       "    </tr>\n",
       "  </thead>\n",
       "  <tbody>\n",
       "    <tr>\n",
       "      <td>21</td>\n",
       "      <td>B17010</td>\n",
       "      <td>POVERTY STATUS IN THE PAST 12 MONTHS OF FAMILI...</td>\n",
       "      <td>https://api.census.gov/data/2017/acs/acs5/grou...</td>\n",
       "    </tr>\n",
       "    <tr>\n",
       "      <td>37</td>\n",
       "      <td>B07204</td>\n",
       "      <td>GEOGRAPHICAL MOBILITY IN THE PAST YEAR FOR CUR...</td>\n",
       "      <td>https://api.census.gov/data/2017/acs/acs5/grou...</td>\n",
       "    </tr>\n",
       "    <tr>\n",
       "      <td>68</td>\n",
       "      <td>B05003</td>\n",
       "      <td>SEX BY AGE BY NATIVITY AND CITIZENSHIP STATUS</td>\n",
       "      <td>https://api.census.gov/data/2017/acs/acs5/grou...</td>\n",
       "    </tr>\n",
       "    <tr>\n",
       "      <td>70</td>\n",
       "      <td>B05006</td>\n",
       "      <td>PLACE OF BIRTH FOR THE FOREIGN-BORN POPULATION...</td>\n",
       "      <td>https://api.census.gov/data/2017/acs/acs5/grou...</td>\n",
       "    </tr>\n",
       "    <tr>\n",
       "      <td>72</td>\n",
       "      <td>B05005</td>\n",
       "      <td>PERIOD OF ENTRY BY NATIVITY AND CITIZENSHIP ST...</td>\n",
       "      <td>https://api.census.gov/data/2017/acs/acs5/grou...</td>\n",
       "    </tr>\n",
       "  </tbody>\n",
       "</table>\n",
       "</div>"
      ],
      "text/plain": [
       "      name                                        description  \\\n",
       "21  B17010  POVERTY STATUS IN THE PAST 12 MONTHS OF FAMILI...   \n",
       "37  B07204  GEOGRAPHICAL MOBILITY IN THE PAST YEAR FOR CUR...   \n",
       "68  B05003      SEX BY AGE BY NATIVITY AND CITIZENSHIP STATUS   \n",
       "70  B05006  PLACE OF BIRTH FOR THE FOREIGN-BORN POPULATION...   \n",
       "72  B05005  PERIOD OF ENTRY BY NATIVITY AND CITIZENSHIP ST...   \n",
       "\n",
       "                                            variables  \n",
       "21  https://api.census.gov/data/2017/acs/acs5/grou...  \n",
       "37  https://api.census.gov/data/2017/acs/acs5/grou...  \n",
       "68  https://api.census.gov/data/2017/acs/acs5/grou...  \n",
       "70  https://api.census.gov/data/2017/acs/acs5/grou...  \n",
       "72  https://api.census.gov/data/2017/acs/acs5/grou...  "
      ]
     },
     "execution_count": 11,
     "metadata": {},
     "output_type": "execute_result"
    }
   ],
   "source": [
    "meta.head()"
   ]
  },
  {
   "cell_type": "markdown",
   "metadata": {},
   "source": [
    "#### Get variable definitions for each column"
   ]
  },
  {
   "cell_type": "code",
   "execution_count": 27,
   "metadata": {},
   "outputs": [],
   "source": [
    "all_var = []\n",
    "for i in meta.variables:\n",
    "    r = json.loads(requests.get(i).content)['variables']\n",
    "    for key, value in r.items():\n",
    "        value.update(dict(variable=key))\n",
    "        all_var.append(value)"
   ]
  },
  {
   "cell_type": "code",
   "execution_count": 30,
   "metadata": {},
   "outputs": [],
   "source": [
    "df_meta = pd.DataFrame(all_var)\n",
    "df_meta = df_meta[~df_meta['variable'].str.endswith('A')]"
   ]
  },
  {
   "cell_type": "code",
   "execution_count": 31,
   "metadata": {},
   "outputs": [
    {
     "data": {
      "text/html": [
       "<div>\n",
       "<style scoped>\n",
       "    .dataframe tbody tr th:only-of-type {\n",
       "        vertical-align: middle;\n",
       "    }\n",
       "\n",
       "    .dataframe tbody tr th {\n",
       "        vertical-align: top;\n",
       "    }\n",
       "\n",
       "    .dataframe thead th {\n",
       "        text-align: right;\n",
       "    }\n",
       "</style>\n",
       "<table border=\"1\" class=\"dataframe\">\n",
       "  <thead>\n",
       "    <tr style=\"text-align: right;\">\n",
       "      <th></th>\n",
       "      <th>label</th>\n",
       "      <th>predicateType</th>\n",
       "      <th>group</th>\n",
       "      <th>limit</th>\n",
       "      <th>predicateOnly</th>\n",
       "      <th>variable</th>\n",
       "      <th>concept</th>\n",
       "    </tr>\n",
       "  </thead>\n",
       "  <tbody>\n",
       "    <tr>\n",
       "      <td>26</td>\n",
       "      <td>Margin of Error!!Total!!Income in the past 12 ...</td>\n",
       "      <td>int</td>\n",
       "      <td>B17010</td>\n",
       "      <td>0</td>\n",
       "      <td>True</td>\n",
       "      <td>B17010_020M</td>\n",
       "      <td>POVERTY STATUS IN THE PAST 12 MONTHS OF FAMILI...</td>\n",
       "    </tr>\n",
       "    <tr>\n",
       "      <td>27</td>\n",
       "      <td>Estimate!!Total!!Income in the past 12 months ...</td>\n",
       "      <td>int</td>\n",
       "      <td>B17010</td>\n",
       "      <td>0</td>\n",
       "      <td>True</td>\n",
       "      <td>B17010_020E</td>\n",
       "      <td>POVERTY STATUS IN THE PAST 12 MONTHS OF FAMILI...</td>\n",
       "    </tr>\n",
       "    <tr>\n",
       "      <td>28</td>\n",
       "      <td>Margin of Error!!Total!!Income in the past 12 ...</td>\n",
       "      <td>int</td>\n",
       "      <td>B17010</td>\n",
       "      <td>0</td>\n",
       "      <td>True</td>\n",
       "      <td>B17010_022M</td>\n",
       "      <td>POVERTY STATUS IN THE PAST 12 MONTHS OF FAMILI...</td>\n",
       "    </tr>\n",
       "    <tr>\n",
       "      <td>29</td>\n",
       "      <td>Estimate!!Total!!Income in the past 12 months ...</td>\n",
       "      <td>int</td>\n",
       "      <td>B17010</td>\n",
       "      <td>0</td>\n",
       "      <td>True</td>\n",
       "      <td>B17010_022E</td>\n",
       "      <td>POVERTY STATUS IN THE PAST 12 MONTHS OF FAMILI...</td>\n",
       "    </tr>\n",
       "    <tr>\n",
       "      <td>30</td>\n",
       "      <td>Margin of Error!!Total!!Income in the past 12 ...</td>\n",
       "      <td>int</td>\n",
       "      <td>B17010</td>\n",
       "      <td>0</td>\n",
       "      <td>True</td>\n",
       "      <td>B17010_021M</td>\n",
       "      <td>POVERTY STATUS IN THE PAST 12 MONTHS OF FAMILI...</td>\n",
       "    </tr>\n",
       "  </tbody>\n",
       "</table>\n",
       "</div>"
      ],
      "text/plain": [
       "                                                label predicateType   group  \\\n",
       "26  Margin of Error!!Total!!Income in the past 12 ...           int  B17010   \n",
       "27  Estimate!!Total!!Income in the past 12 months ...           int  B17010   \n",
       "28  Margin of Error!!Total!!Income in the past 12 ...           int  B17010   \n",
       "29  Estimate!!Total!!Income in the past 12 months ...           int  B17010   \n",
       "30  Margin of Error!!Total!!Income in the past 12 ...           int  B17010   \n",
       "\n",
       "    limit  predicateOnly     variable  \\\n",
       "26      0           True  B17010_020M   \n",
       "27      0           True  B17010_020E   \n",
       "28      0           True  B17010_022M   \n",
       "29      0           True  B17010_022E   \n",
       "30      0           True  B17010_021M   \n",
       "\n",
       "                                              concept  \n",
       "26  POVERTY STATUS IN THE PAST 12 MONTHS OF FAMILI...  \n",
       "27  POVERTY STATUS IN THE PAST 12 MONTHS OF FAMILI...  \n",
       "28  POVERTY STATUS IN THE PAST 12 MONTHS OF FAMILI...  \n",
       "29  POVERTY STATUS IN THE PAST 12 MONTHS OF FAMILI...  \n",
       "30  POVERTY STATUS IN THE PAST 12 MONTHS OF FAMILI...  "
      ]
     },
     "execution_count": 31,
     "metadata": {},
     "output_type": "execute_result"
    }
   ],
   "source": [
    "df_meta.head()"
   ]
  },
  {
   "cell_type": "code",
   "execution_count": 40,
   "metadata": {},
   "outputs": [],
   "source": [
    "df_meta['label1'] = df_meta['label'].apply(lambda x: x.replace('Margin of Error', '').replace('Estimate', '').replace('!', ''))"
   ]
  },
  {
   "cell_type": "code",
   "execution_count": 43,
   "metadata": {},
   "outputs": [],
   "source": [
    "df_meta.to_csv('data/meta.csv', index=False)"
   ]
  },
  {
   "cell_type": "markdown",
   "metadata": {},
   "source": [
    "## Process manual lookup inputs"
   ]
  },
  {
   "cell_type": "code",
   "execution_count": 98,
   "metadata": {},
   "outputs": [],
   "source": [
    "df = pd.read_csv('data/meta_lookup.csv')"
   ]
  },
  {
   "cell_type": "code",
   "execution_count": 99,
   "metadata": {},
   "outputs": [],
   "source": [
    "df = df[~df.group.isin(['B00001', 'B00002', 'C16001'])]"
   ]
  },
  {
   "cell_type": "code",
   "execution_count": 100,
   "metadata": {},
   "outputs": [],
   "source": [
    "df = df[['variable', 'group', 'schema', 'schema2', 'schema3']]"
   ]
  },
  {
   "cell_type": "code",
   "execution_count": 101,
   "metadata": {},
   "outputs": [
    {
     "data": {
      "text/html": [
       "<div>\n",
       "<style scoped>\n",
       "    .dataframe tbody tr th:only-of-type {\n",
       "        vertical-align: middle;\n",
       "    }\n",
       "\n",
       "    .dataframe tbody tr th {\n",
       "        vertical-align: top;\n",
       "    }\n",
       "\n",
       "    .dataframe thead th {\n",
       "        text-align: right;\n",
       "    }\n",
       "</style>\n",
       "<table border=\"1\" class=\"dataframe\">\n",
       "  <thead>\n",
       "    <tr style=\"text-align: right;\">\n",
       "      <th></th>\n",
       "      <th>variable</th>\n",
       "      <th>group</th>\n",
       "      <th>schema</th>\n",
       "      <th>schema2</th>\n",
       "      <th>schema3</th>\n",
       "    </tr>\n",
       "  </thead>\n",
       "  <tbody>\n",
       "    <tr>\n",
       "      <td>0</td>\n",
       "      <td>B17010_020M</td>\n",
       "      <td>B17010</td>\n",
       "      <td>NaN</td>\n",
       "      <td>NaN</td>\n",
       "      <td>NaN</td>\n",
       "    </tr>\n",
       "    <tr>\n",
       "      <td>2</td>\n",
       "      <td>B17010_022M</td>\n",
       "      <td>B17010</td>\n",
       "      <td>NaN</td>\n",
       "      <td>NaN</td>\n",
       "      <td>NaN</td>\n",
       "    </tr>\n",
       "    <tr>\n",
       "      <td>4</td>\n",
       "      <td>B17010_021M</td>\n",
       "      <td>B17010</td>\n",
       "      <td>NaN</td>\n",
       "      <td>NaN</td>\n",
       "      <td>NaN</td>\n",
       "    </tr>\n",
       "    <tr>\n",
       "      <td>5</td>\n",
       "      <td>B01001_001E</td>\n",
       "      <td>B01001</td>\n",
       "      <td>MdPop_3</td>\n",
       "      <td>Pop</td>\n",
       "      <td>Pop_6</td>\n",
       "    </tr>\n",
       "    <tr>\n",
       "      <td>6</td>\n",
       "      <td>B17010_024M</td>\n",
       "      <td>B17010</td>\n",
       "      <td>NaN</td>\n",
       "      <td>NaN</td>\n",
       "      <td>NaN</td>\n",
       "    </tr>\n",
       "  </tbody>\n",
       "</table>\n",
       "</div>"
      ],
      "text/plain": [
       "      variable   group   schema schema2 schema3\n",
       "0  B17010_020M  B17010      NaN     NaN     NaN\n",
       "2  B17010_022M  B17010      NaN     NaN     NaN\n",
       "4  B17010_021M  B17010      NaN     NaN     NaN\n",
       "5  B01001_001E  B01001  MdPop_3     Pop   Pop_6\n",
       "6  B17010_024M  B17010      NaN     NaN     NaN"
      ]
     },
     "execution_count": 101,
     "metadata": {},
     "output_type": "execute_result"
    }
   ],
   "source": [
    "df.head()"
   ]
  },
  {
   "cell_type": "code",
   "execution_count": 102,
   "metadata": {},
   "outputs": [],
   "source": [
    "df_demo = df[df.group.isin(demo_groups)]\n",
    "df_econ = df[df.group.isin(econ_groups)]\n",
    "df_hous = df[df.group.isin(hous_groups)]\n",
    "df_soci = df[df.group.isin(soci_groups)]"
   ]
  },
  {
   "cell_type": "code",
   "execution_count": 104,
   "metadata": {},
   "outputs": [
    {
     "data": {
      "text/html": [
       "<div>\n",
       "<style scoped>\n",
       "    .dataframe tbody tr th:only-of-type {\n",
       "        vertical-align: middle;\n",
       "    }\n",
       "\n",
       "    .dataframe tbody tr th {\n",
       "        vertical-align: top;\n",
       "    }\n",
       "\n",
       "    .dataframe thead th {\n",
       "        text-align: right;\n",
       "    }\n",
       "</style>\n",
       "<table border=\"1\" class=\"dataframe\">\n",
       "  <thead>\n",
       "    <tr style=\"text-align: right;\">\n",
       "      <th></th>\n",
       "      <th>variable</th>\n",
       "      <th>group</th>\n",
       "      <th>schema</th>\n",
       "      <th>schema2</th>\n",
       "      <th>schema3</th>\n",
       "    </tr>\n",
       "  </thead>\n",
       "  <tbody>\n",
       "    <tr>\n",
       "      <td>5</td>\n",
       "      <td>B01001_001E</td>\n",
       "      <td>B01001</td>\n",
       "      <td>MdPop_3</td>\n",
       "      <td>Pop</td>\n",
       "      <td>Pop_6</td>\n",
       "    </tr>\n",
       "    <tr>\n",
       "      <td>7</td>\n",
       "      <td>B01001_002E</td>\n",
       "      <td>B01001</td>\n",
       "      <td>-</td>\n",
       "      <td>NaN</td>\n",
       "      <td>NaN</td>\n",
       "    </tr>\n",
       "    <tr>\n",
       "      <td>9</td>\n",
       "      <td>B01001_003E</td>\n",
       "      <td>B01001</td>\n",
       "      <td>MdPop0t4</td>\n",
       "      <td>MPop0t5</td>\n",
       "      <td>NaN</td>\n",
       "    </tr>\n",
       "    <tr>\n",
       "      <td>11</td>\n",
       "      <td>B01001_004E</td>\n",
       "      <td>B01001</td>\n",
       "      <td>MdPop5t9</td>\n",
       "      <td>MPop5t9</td>\n",
       "      <td>NaN</td>\n",
       "    </tr>\n",
       "    <tr>\n",
       "      <td>13</td>\n",
       "      <td>B01001_005E</td>\n",
       "      <td>B01001</td>\n",
       "      <td>MdPop10t14</td>\n",
       "      <td>MPop10t14</td>\n",
       "      <td>NaN</td>\n",
       "    </tr>\n",
       "  </tbody>\n",
       "</table>\n",
       "</div>"
      ],
      "text/plain": [
       "       variable   group      schema    schema2 schema3\n",
       "5   B01001_001E  B01001     MdPop_3        Pop   Pop_6\n",
       "7   B01001_002E  B01001           -        NaN     NaN\n",
       "9   B01001_003E  B01001    MdPop0t4    MPop0t5     NaN\n",
       "11  B01001_004E  B01001    MdPop5t9    MPop5t9     NaN\n",
       "13  B01001_005E  B01001  MdPop10t14  MPop10t14     NaN"
      ]
     },
     "execution_count": 104,
     "metadata": {},
     "output_type": "execute_result"
    }
   ],
   "source": [
    "df_demo.head()"
   ]
  },
  {
   "cell_type": "code",
   "execution_count": 126,
   "metadata": {},
   "outputs": [],
   "source": [
    "def create_lookup(df, name):\n",
    "    all_schema = list(set(df.schema.tolist() + df.schema2.tolist() + df.schema3.tolist()))\n",
    "    \n",
    "    try:\n",
    "        all_schema.remove(np.nan)\n",
    "    except: \n",
    "        pass\n",
    "    \n",
    "    all_schema = list(filter(lambda x: x != '-', all_schema))\n",
    "    lookup = {}\n",
    "    \n",
    "    for i in all_schema: \n",
    "        a = df.loc[df.schema == i, 'variable'].tolist()\n",
    "        b = df.loc[df.schema2 == i, 'variable'].tolist()\n",
    "        c = df.loc[df.schema3 == i, 'variable'].tolist()\n",
    "        variables = [i[:-1] for i in set(a+b+c)]\n",
    "        lookup[i] = variables\n",
    "        \n",
    "    with open(f'data/{name}_meta_lookup.json', 'w', encoding='utf-8') as f:\n",
    "        json.dump(lookup, f, ensure_ascii=False, indent=4)"
   ]
  },
  {
   "cell_type": "code",
   "execution_count": 128,
   "metadata": {},
   "outputs": [],
   "source": [
    "create_lookup(df_demo, 'demo')\n",
    "create_lookup(df_hous, 'hous')\n",
    "create_lookup(df_soci, 'soci')\n",
    "create_lookup(df_econ, 'econ')"
   ]
  },
  {
   "cell_type": "code",
   "execution_count": 52,
   "metadata": {},
   "outputs": [],
   "source": [
    "all_schema = list(set(df.schema.tolist() + df.schema2.tolist() + df.schema3.tolist()))"
   ]
  },
  {
   "cell_type": "code",
   "execution_count": 53,
   "metadata": {},
   "outputs": [],
   "source": [
    "all_schema.remove('-')\n",
    "all_schema.remove(np.nan)"
   ]
  },
  {
   "cell_type": "code",
   "execution_count": 54,
   "metadata": {},
   "outputs": [
    {
     "data": {
      "text/plain": [
       "['OcHU4', 'EA_GrdPfD', 'SEAsia', 'C65plDVsn']"
      ]
     },
     "execution_count": 54,
     "metadata": {},
     "output_type": "execute_result"
    }
   ],
   "source": [
    "all_schema[1:5]"
   ]
  },
  {
   "cell_type": "code",
   "execution_count": 55,
   "metadata": {},
   "outputs": [],
   "source": [
    "lookup = {}\n",
    "for i in all_schema: \n",
    "    a = df.loc[df.schema == i, 'variable'].tolist()\n",
    "    b = df.loc[df.schema2 == i, 'variable'].tolist()\n",
    "    c = df.loc[df.schema3 == i, 'variable'].tolist()\n",
    "    variables = [i[:-1] for i in set(a+b+c)]\n",
    "    lookup[i] = variables"
   ]
  },
  {
   "cell_type": "code",
   "execution_count": 56,
   "metadata": {},
   "outputs": [],
   "source": [
    "with open('data/meta_lookup.json', 'w', encoding='utf-8') as f:\n",
    "    json.dump(lookup, f, ensure_ascii=False, indent=4)"
   ]
  }
 ],
 "metadata": {
  "kernelspec": {
   "display_name": "Python 3",
   "language": "python",
   "name": "python3"
  },
  "language_info": {
   "codemirror_mode": {
    "name": "ipython",
    "version": 3
   },
   "file_extension": ".py",
   "mimetype": "text/x-python",
   "name": "python",
   "nbconvert_exporter": "python",
   "pygments_lexer": "ipython3",
   "version": "3.6.8"
  }
 },
 "nbformat": 4,
 "nbformat_minor": 4
}
