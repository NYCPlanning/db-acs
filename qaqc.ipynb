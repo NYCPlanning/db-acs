{
 "cells": [
  {
   "cell_type": "code",
   "execution_count": 1,
   "metadata": {},
   "outputs": [],
   "source": [
    "import pandas as pd"
   ]
  },
  {
   "cell_type": "code",
   "execution_count": 6,
   "metadata": {},
   "outputs": [],
   "source": [
    "df = pd.read_csv('data/econ_final_pivoted.csv', index_col=False)"
   ]
  },
  {
   "cell_type": "code",
   "execution_count": 7,
   "metadata": {},
   "outputs": [
    {
     "data": {
      "text/html": [
       "<div>\n",
       "<style scoped>\n",
       "    .dataframe tbody tr th:only-of-type {\n",
       "        vertical-align: middle;\n",
       "    }\n",
       "\n",
       "    .dataframe tbody tr th {\n",
       "        vertical-align: top;\n",
       "    }\n",
       "\n",
       "    .dataframe thead th {\n",
       "        text-align: right;\n",
       "    }\n",
       "</style>\n",
       "<table border=\"1\" class=\"dataframe\">\n",
       "  <thead>\n",
       "    <tr style=\"text-align: right;\">\n",
       "      <th></th>\n",
       "      <th>Unnamed: 0</th>\n",
       "      <th>geoid</th>\n",
       "      <th>geoname</th>\n",
       "      <th>c</th>\n",
       "      <th>e</th>\n",
       "      <th>m</th>\n",
       "      <th>p</th>\n",
       "      <th>z</th>\n",
       "      <th>variable</th>\n",
       "    </tr>\n",
       "  </thead>\n",
       "  <tbody>\n",
       "    <tr>\n",
       "      <th>0</th>\n",
       "      <td>0</td>\n",
       "      <td>NaN</td>\n",
       "      <td>BX31</td>\n",
       "      <td>5.764347</td>\n",
       "      <td>6402</td>\n",
       "      <td>607.060129</td>\n",
       "      <td>21.095990</td>\n",
       "      <td>1.821734</td>\n",
       "      <td>pu18pvu</td>\n",
       "    </tr>\n",
       "    <tr>\n",
       "      <th>1</th>\n",
       "      <td>1</td>\n",
       "      <td>NaN</td>\n",
       "      <td>BX05</td>\n",
       "      <td>4.155365</td>\n",
       "      <td>15361</td>\n",
       "      <td>1050.012857</td>\n",
       "      <td>26.792130</td>\n",
       "      <td>1.633922</td>\n",
       "      <td>pu18pvu</td>\n",
       "    </tr>\n",
       "    <tr>\n",
       "      <th>2</th>\n",
       "      <td>2</td>\n",
       "      <td>NaN</td>\n",
       "      <td>BX06</td>\n",
       "      <td>6.212646</td>\n",
       "      <td>7926</td>\n",
       "      <td>810.021605</td>\n",
       "      <td>29.154712</td>\n",
       "      <td>2.572991</td>\n",
       "      <td>pu18pvu</td>\n",
       "    </tr>\n",
       "    <tr>\n",
       "      <th>3</th>\n",
       "      <td>3</td>\n",
       "      <td>NaN</td>\n",
       "      <td>BX07</td>\n",
       "      <td>5.522843</td>\n",
       "      <td>8715</td>\n",
       "      <td>791.764485</td>\n",
       "      <td>23.228231</td>\n",
       "      <td>1.904467</td>\n",
       "      <td>pu18pvu</td>\n",
       "    </tr>\n",
       "    <tr>\n",
       "      <th>4</th>\n",
       "      <td>4</td>\n",
       "      <td>NaN</td>\n",
       "      <td>BX01</td>\n",
       "      <td>4.769015</td>\n",
       "      <td>11283</td>\n",
       "      <td>885.154789</td>\n",
       "      <td>32.339706</td>\n",
       "      <td>2.108193</td>\n",
       "      <td>pu18pvu</td>\n",
       "    </tr>\n",
       "  </tbody>\n",
       "</table>\n",
       "</div>"
      ],
      "text/plain": [
       "   Unnamed: 0  geoid geoname         c      e            m          p  \\\n",
       "0           0    NaN    BX31  5.764347   6402   607.060129  21.095990   \n",
       "1           1    NaN    BX05  4.155365  15361  1050.012857  26.792130   \n",
       "2           2    NaN    BX06  6.212646   7926   810.021605  29.154712   \n",
       "3           3    NaN    BX07  5.522843   8715   791.764485  23.228231   \n",
       "4           4    NaN    BX01  4.769015  11283   885.154789  32.339706   \n",
       "\n",
       "          z variable  \n",
       "0  1.821734  pu18pvu  \n",
       "1  1.633922  pu18pvu  \n",
       "2  2.572991  pu18pvu  \n",
       "3  1.904467  pu18pvu  \n",
       "4  2.108193  pu18pvu  "
      ]
     },
     "execution_count": 7,
     "metadata": {},
     "output_type": "execute_result"
    }
   ],
   "source": []
  },
  {
   "cell_type": "code",
   "execution_count": null,
   "metadata": {},
   "outputs": [],
   "source": []
  }
 ],
 "metadata": {
  "kernelspec": {
   "display_name": "Python 3",
   "language": "python",
   "name": "python3"
  },
  "language_info": {
   "codemirror_mode": {
    "name": "ipython",
    "version": 3
   },
   "file_extension": ".py",
   "mimetype": "text/x-python",
   "name": "python",
   "nbconvert_exporter": "python",
   "pygments_lexer": "ipython3",
   "version": "3.6.8"
  }
 },
 "nbformat": 4,
 "nbformat_minor": 2
}
