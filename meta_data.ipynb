{
 "cells": [
  {
   "cell_type": "code",
   "execution_count": 3,
   "metadata": {},
   "outputs": [],
   "source": [
    "import requests\n",
    "import pandas as pd\n",
    "import json\n",
    "import os"
   ]
  },
  {
   "cell_type": "code",
   "execution_count": 4,
   "metadata": {},
   "outputs": [],
   "source": [
    "%load_ext dotenv\n",
    "%dotenv"
   ]
  },
  {
   "cell_type": "code",
   "execution_count": 5,
   "metadata": {},
   "outputs": [],
   "source": [
    "api_key=os.environ['API_KEY']"
   ]
  },
  {
   "cell_type": "code",
   "execution_count": 6,
   "metadata": {},
   "outputs": [],
   "source": [
    "demo_groups = ['B01001', 'B05003', 'B02015', 'DP05', 'B03001']\n",
    "\n",
    "soci_groups = ['B00002', 'B11002', 'B04006', 'B11009', 'B05005', \n",
    "                'C16001', 'B05006', 'DP02', 'B07204', 'S1810']\n",
    "                \n",
    "econ_groups = ['B00001', 'B19025', 'B00002', 'B19101', 'B01001', \n",
    "                'B19201', 'B08013', 'B19313', 'B17010', 'B20005', \n",
    "                'B17024', 'DP03', 'B19001', 'S1701']\n",
    "                \n",
    "hous_groups = ['B00002', 'B25070', 'B25004', 'B25075', 'B25008', \n",
    "              'DP04', 'B25063']\n",
    "\n",
    "all_groups = demo_groups + soci_groups + econ_groups + hous_groups"
   ]
  },
  {
   "cell_type": "code",
   "execution_count": 7,
   "metadata": {},
   "outputs": [],
   "source": [
    "groups = json.loads(requests.get('https://api.census.gov/data/2017/acs/acs5/groups.json').content)\n",
    "profile_groups = json.loads(requests.get('https://api.census.gov/data/2017/acs/acs5/profile/groups.json').content)\n",
    "cprofile_groups = json.loads(requests.get('https://api.census.gov/data/2017/acs/acs5/cprofile/groups.json').content)\n",
    "subject_groups = json.loads(requests.get('https://api.census.gov/data/2017/acs/acs5/subject/groups.json').content)"
   ]
  },
  {
   "cell_type": "code",
   "execution_count": 8,
   "metadata": {},
   "outputs": [],
   "source": [
    "meta = pd.DataFrame(groups['groups']+profile_groups['groups']+cprofile_groups['groups']+subject_groups['groups'])"
   ]
  },
  {
   "cell_type": "code",
   "execution_count": 9,
   "metadata": {},
   "outputs": [],
   "source": [
    "meta = meta[meta['name'].isin(all_groups)]"
   ]
  },
  {
   "cell_type": "code",
   "execution_count": 11,
   "metadata": {},
   "outputs": [
    {
     "data": {
      "text/html": [
       "<div>\n",
       "<style scoped>\n",
       "    .dataframe tbody tr th:only-of-type {\n",
       "        vertical-align: middle;\n",
       "    }\n",
       "\n",
       "    .dataframe tbody tr th {\n",
       "        vertical-align: top;\n",
       "    }\n",
       "\n",
       "    .dataframe thead th {\n",
       "        text-align: right;\n",
       "    }\n",
       "</style>\n",
       "<table border=\"1\" class=\"dataframe\">\n",
       "  <thead>\n",
       "    <tr style=\"text-align: right;\">\n",
       "      <th></th>\n",
       "      <th>name</th>\n",
       "      <th>description</th>\n",
       "      <th>variables</th>\n",
       "    </tr>\n",
       "  </thead>\n",
       "  <tbody>\n",
       "    <tr>\n",
       "      <td>21</td>\n",
       "      <td>B17010</td>\n",
       "      <td>POVERTY STATUS IN THE PAST 12 MONTHS OF FAMILI...</td>\n",
       "      <td>https://api.census.gov/data/2017/acs/acs5/grou...</td>\n",
       "    </tr>\n",
       "    <tr>\n",
       "      <td>37</td>\n",
       "      <td>B07204</td>\n",
       "      <td>GEOGRAPHICAL MOBILITY IN THE PAST YEAR FOR CUR...</td>\n",
       "      <td>https://api.census.gov/data/2017/acs/acs5/grou...</td>\n",
       "    </tr>\n",
       "    <tr>\n",
       "      <td>68</td>\n",
       "      <td>B05003</td>\n",
       "      <td>SEX BY AGE BY NATIVITY AND CITIZENSHIP STATUS</td>\n",
       "      <td>https://api.census.gov/data/2017/acs/acs5/grou...</td>\n",
       "    </tr>\n",
       "    <tr>\n",
       "      <td>70</td>\n",
       "      <td>B05006</td>\n",
       "      <td>PLACE OF BIRTH FOR THE FOREIGN-BORN POPULATION...</td>\n",
       "      <td>https://api.census.gov/data/2017/acs/acs5/grou...</td>\n",
       "    </tr>\n",
       "    <tr>\n",
       "      <td>72</td>\n",
       "      <td>B05005</td>\n",
       "      <td>PERIOD OF ENTRY BY NATIVITY AND CITIZENSHIP ST...</td>\n",
       "      <td>https://api.census.gov/data/2017/acs/acs5/grou...</td>\n",
       "    </tr>\n",
       "  </tbody>\n",
       "</table>\n",
       "</div>"
      ],
      "text/plain": [
       "      name                                        description  \\\n",
       "21  B17010  POVERTY STATUS IN THE PAST 12 MONTHS OF FAMILI...   \n",
       "37  B07204  GEOGRAPHICAL MOBILITY IN THE PAST YEAR FOR CUR...   \n",
       "68  B05003      SEX BY AGE BY NATIVITY AND CITIZENSHIP STATUS   \n",
       "70  B05006  PLACE OF BIRTH FOR THE FOREIGN-BORN POPULATION...   \n",
       "72  B05005  PERIOD OF ENTRY BY NATIVITY AND CITIZENSHIP ST...   \n",
       "\n",
       "                                            variables  \n",
       "21  https://api.census.gov/data/2017/acs/acs5/grou...  \n",
       "37  https://api.census.gov/data/2017/acs/acs5/grou...  \n",
       "68  https://api.census.gov/data/2017/acs/acs5/grou...  \n",
       "70  https://api.census.gov/data/2017/acs/acs5/grou...  \n",
       "72  https://api.census.gov/data/2017/acs/acs5/grou...  "
      ]
     },
     "execution_count": 11,
     "metadata": {},
     "output_type": "execute_result"
    }
   ],
   "source": [
    "meta.head()"
   ]
  },
  {
   "cell_type": "markdown",
   "metadata": {},
   "source": [
    "#### Get variable definitions for each column"
   ]
  },
  {
   "cell_type": "code",
   "execution_count": 27,
   "metadata": {},
   "outputs": [],
   "source": [
    "all_var = []\n",
    "for i in meta.variables:\n",
    "    r = json.loads(requests.get(i).content)['variables']\n",
    "    for key, value in r.items():\n",
    "        value.update(dict(variable=key))\n",
    "        all_var.append(value)"
   ]
  },
  {
   "cell_type": "code",
   "execution_count": 30,
   "metadata": {},
   "outputs": [],
   "source": [
    "df_meta = pd.DataFrame(all_var)\n",
    "df_meta = df_meta[~df_meta['variable'].str.endswith('A')]"
   ]
  },
  {
   "cell_type": "code",
   "execution_count": 31,
   "metadata": {},
   "outputs": [
    {
     "data": {
      "text/html": [
       "<div>\n",
       "<style scoped>\n",
       "    .dataframe tbody tr th:only-of-type {\n",
       "        vertical-align: middle;\n",
       "    }\n",
       "\n",
       "    .dataframe tbody tr th {\n",
       "        vertical-align: top;\n",
       "    }\n",
       "\n",
       "    .dataframe thead th {\n",
       "        text-align: right;\n",
       "    }\n",
       "</style>\n",
       "<table border=\"1\" class=\"dataframe\">\n",
       "  <thead>\n",
       "    <tr style=\"text-align: right;\">\n",
       "      <th></th>\n",
       "      <th>label</th>\n",
       "      <th>predicateType</th>\n",
       "      <th>group</th>\n",
       "      <th>limit</th>\n",
       "      <th>predicateOnly</th>\n",
       "      <th>variable</th>\n",
       "      <th>concept</th>\n",
       "    </tr>\n",
       "  </thead>\n",
       "  <tbody>\n",
       "    <tr>\n",
       "      <td>26</td>\n",
       "      <td>Margin of Error!!Total!!Income in the past 12 ...</td>\n",
       "      <td>int</td>\n",
       "      <td>B17010</td>\n",
       "      <td>0</td>\n",
       "      <td>True</td>\n",
       "      <td>B17010_020M</td>\n",
       "      <td>POVERTY STATUS IN THE PAST 12 MONTHS OF FAMILI...</td>\n",
       "    </tr>\n",
       "    <tr>\n",
       "      <td>27</td>\n",
       "      <td>Estimate!!Total!!Income in the past 12 months ...</td>\n",
       "      <td>int</td>\n",
       "      <td>B17010</td>\n",
       "      <td>0</td>\n",
       "      <td>True</td>\n",
       "      <td>B17010_020E</td>\n",
       "      <td>POVERTY STATUS IN THE PAST 12 MONTHS OF FAMILI...</td>\n",
       "    </tr>\n",
       "    <tr>\n",
       "      <td>28</td>\n",
       "      <td>Margin of Error!!Total!!Income in the past 12 ...</td>\n",
       "      <td>int</td>\n",
       "      <td>B17010</td>\n",
       "      <td>0</td>\n",
       "      <td>True</td>\n",
       "      <td>B17010_022M</td>\n",
       "      <td>POVERTY STATUS IN THE PAST 12 MONTHS OF FAMILI...</td>\n",
       "    </tr>\n",
       "    <tr>\n",
       "      <td>29</td>\n",
       "      <td>Estimate!!Total!!Income in the past 12 months ...</td>\n",
       "      <td>int</td>\n",
       "      <td>B17010</td>\n",
       "      <td>0</td>\n",
       "      <td>True</td>\n",
       "      <td>B17010_022E</td>\n",
       "      <td>POVERTY STATUS IN THE PAST 12 MONTHS OF FAMILI...</td>\n",
       "    </tr>\n",
       "    <tr>\n",
       "      <td>30</td>\n",
       "      <td>Margin of Error!!Total!!Income in the past 12 ...</td>\n",
       "      <td>int</td>\n",
       "      <td>B17010</td>\n",
       "      <td>0</td>\n",
       "      <td>True</td>\n",
       "      <td>B17010_021M</td>\n",
       "      <td>POVERTY STATUS IN THE PAST 12 MONTHS OF FAMILI...</td>\n",
       "    </tr>\n",
       "  </tbody>\n",
       "</table>\n",
       "</div>"
      ],
      "text/plain": [
       "                                                label predicateType   group  \\\n",
       "26  Margin of Error!!Total!!Income in the past 12 ...           int  B17010   \n",
       "27  Estimate!!Total!!Income in the past 12 months ...           int  B17010   \n",
       "28  Margin of Error!!Total!!Income in the past 12 ...           int  B17010   \n",
       "29  Estimate!!Total!!Income in the past 12 months ...           int  B17010   \n",
       "30  Margin of Error!!Total!!Income in the past 12 ...           int  B17010   \n",
       "\n",
       "    limit  predicateOnly     variable  \\\n",
       "26      0           True  B17010_020M   \n",
       "27      0           True  B17010_020E   \n",
       "28      0           True  B17010_022M   \n",
       "29      0           True  B17010_022E   \n",
       "30      0           True  B17010_021M   \n",
       "\n",
       "                                              concept  \n",
       "26  POVERTY STATUS IN THE PAST 12 MONTHS OF FAMILI...  \n",
       "27  POVERTY STATUS IN THE PAST 12 MONTHS OF FAMILI...  \n",
       "28  POVERTY STATUS IN THE PAST 12 MONTHS OF FAMILI...  \n",
       "29  POVERTY STATUS IN THE PAST 12 MONTHS OF FAMILI...  \n",
       "30  POVERTY STATUS IN THE PAST 12 MONTHS OF FAMILI...  "
      ]
     },
     "execution_count": 31,
     "metadata": {},
     "output_type": "execute_result"
    }
   ],
   "source": [
    "df_meta.head()"
   ]
  },
  {
   "cell_type": "code",
   "execution_count": 40,
   "metadata": {},
   "outputs": [],
   "source": [
    "df_meta['label1'] = df_meta['label'].apply(lambda x: x.replace('Margin of Error', '').replace('Estimate', '').replace('!', ''))"
   ]
  },
  {
   "cell_type": "code",
   "execution_count": 43,
   "metadata": {},
   "outputs": [],
   "source": [
    "df_meta.to_csv('data/meta.csv', index=False)"
   ]
  },
  {
   "cell_type": "code",
   "execution_count": null,
   "metadata": {},
   "outputs": [],
   "source": []
  }
 ],
 "metadata": {
  "kernelspec": {
   "display_name": "Python 3",
   "language": "python",
   "name": "python3"
  },
  "language_info": {
   "codemirror_mode": {
    "name": "ipython",
    "version": 3
   },
   "file_extension": ".py",
   "mimetype": "text/x-python",
   "name": "python",
   "nbconvert_exporter": "python",
   "pygments_lexer": "ipython3",
   "version": "3.7.3"
  }
 },
 "nbformat": 4,
 "nbformat_minor": 4
}
