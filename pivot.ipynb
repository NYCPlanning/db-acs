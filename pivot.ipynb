{
 "cells": [
  {
   "cell_type": "code",
   "execution_count": 6,
   "metadata": {},
   "outputs": [],
   "source": [
    "import pandas as pd\n",
    "import json\n",
    "import numpy as np"
   ]
  },
  {
   "cell_type": "code",
   "execution_count": 2,
   "metadata": {},
   "outputs": [],
   "source": [
    "df = pd.read_csv('data/demo_final.csv', index_col=False)"
   ]
  },
  {
   "cell_type": "code",
   "execution_count": 3,
   "metadata": {},
   "outputs": [
    {
     "data": {
      "text/html": [
       "<div>\n",
       "<style scoped>\n",
       "    .dataframe tbody tr th:only-of-type {\n",
       "        vertical-align: middle;\n",
       "    }\n",
       "\n",
       "    .dataframe tbody tr th {\n",
       "        vertical-align: top;\n",
       "    }\n",
       "\n",
       "    .dataframe thead th {\n",
       "        text-align: right;\n",
       "    }\n",
       "</style>\n",
       "<table border=\"1\" class=\"dataframe\">\n",
       "  <thead>\n",
       "    <tr style=\"text-align: right;\">\n",
       "      <th></th>\n",
       "      <th>Pop25t29E</th>\n",
       "      <th>Pop25t29M</th>\n",
       "      <th>Pop25t29P</th>\n",
       "      <th>Pop25t29Z</th>\n",
       "      <th>Pop25t29C</th>\n",
       "      <th>Pop40t44E</th>\n",
       "      <th>Pop40t44M</th>\n",
       "      <th>Pop40t44P</th>\n",
       "      <th>Pop40t44Z</th>\n",
       "      <th>Pop40t44C</th>\n",
       "      <th>...</th>\n",
       "      <th>AsnOkinwP</th>\n",
       "      <th>AsnOkinwZ</th>\n",
       "      <th>AsnOkinwC</th>\n",
       "      <th>Asn1RcE</th>\n",
       "      <th>Asn1RcM</th>\n",
       "      <th>Asn1RcP</th>\n",
       "      <th>Asn1RcZ</th>\n",
       "      <th>Asn1RcC</th>\n",
       "      <th>GEO_ID</th>\n",
       "      <th>NAME</th>\n",
       "    </tr>\n",
       "  </thead>\n",
       "  <tbody>\n",
       "    <tr>\n",
       "      <th>0</th>\n",
       "      <td>2310.0</td>\n",
       "      <td>370.905648</td>\n",
       "      <td>7.190214</td>\n",
       "      <td>1.120307</td>\n",
       "      <td>9.760803</td>\n",
       "      <td>2216.0</td>\n",
       "      <td>287.956594</td>\n",
       "      <td>6.897625</td>\n",
       "      <td>0.855446</td>\n",
       "      <td>7.899350</td>\n",
       "      <td>...</td>\n",
       "      <td>0.0</td>\n",
       "      <td>NaN</td>\n",
       "      <td>NaN</td>\n",
       "      <td>3165.0</td>\n",
       "      <td>551.238605</td>\n",
       "      <td>100.0</td>\n",
       "      <td>NaN</td>\n",
       "      <td>10.587661</td>\n",
       "      <td>BX31</td>\n",
       "      <td>BX31</td>\n",
       "    </tr>\n",
       "    <tr>\n",
       "      <th>1</th>\n",
       "      <td>5404.0</td>\n",
       "      <td>652.869819</td>\n",
       "      <td>9.362764</td>\n",
       "      <td>1.093873</td>\n",
       "      <td>7.344214</td>\n",
       "      <td>3732.0</td>\n",
       "      <td>483.424244</td>\n",
       "      <td>6.465921</td>\n",
       "      <td>0.813614</td>\n",
       "      <td>7.874462</td>\n",
       "      <td>...</td>\n",
       "      <td>0.0</td>\n",
       "      <td>NaN</td>\n",
       "      <td>NaN</td>\n",
       "      <td>2324.0</td>\n",
       "      <td>443.419666</td>\n",
       "      <td>100.0</td>\n",
       "      <td>NaN</td>\n",
       "      <td>11.598796</td>\n",
       "      <td>BX05</td>\n",
       "      <td>BX05</td>\n",
       "    </tr>\n",
       "    <tr>\n",
       "      <th>2</th>\n",
       "      <td>2928.0</td>\n",
       "      <td>538.426411</td>\n",
       "      <td>9.763254</td>\n",
       "      <td>1.733736</td>\n",
       "      <td>11.178651</td>\n",
       "      <td>1500.0</td>\n",
       "      <td>295.978040</td>\n",
       "      <td>5.001667</td>\n",
       "      <td>0.957573</td>\n",
       "      <td>11.995057</td>\n",
       "      <td>...</td>\n",
       "      <td>0.0</td>\n",
       "      <td>NaN</td>\n",
       "      <td>NaN</td>\n",
       "      <td>548.0</td>\n",
       "      <td>203.592731</td>\n",
       "      <td>100.0</td>\n",
       "      <td>NaN</td>\n",
       "      <td>22.584777</td>\n",
       "      <td>BX06</td>\n",
       "      <td>BX06</td>\n",
       "    </tr>\n",
       "    <tr>\n",
       "      <th>3</th>\n",
       "      <td>3444.0</td>\n",
       "      <td>489.737685</td>\n",
       "      <td>9.043405</td>\n",
       "      <td>1.236867</td>\n",
       "      <td>8.644393</td>\n",
       "      <td>2470.0</td>\n",
       "      <td>375.532955</td>\n",
       "      <td>6.485834</td>\n",
       "      <td>0.953231</td>\n",
       "      <td>9.242409</td>\n",
       "      <td>...</td>\n",
       "      <td>0.0</td>\n",
       "      <td>NaN</td>\n",
       "      <td>NaN</td>\n",
       "      <td>1186.0</td>\n",
       "      <td>366.243089</td>\n",
       "      <td>100.0</td>\n",
       "      <td>NaN</td>\n",
       "      <td>18.772359</td>\n",
       "      <td>BX07</td>\n",
       "      <td>BX07</td>\n",
       "    </tr>\n",
       "    <tr>\n",
       "      <th>4</th>\n",
       "      <td>2976.0</td>\n",
       "      <td>453.673892</td>\n",
       "      <td>8.299866</td>\n",
       "      <td>1.211234</td>\n",
       "      <td>9.267124</td>\n",
       "      <td>2245.0</td>\n",
       "      <td>394.908850</td>\n",
       "      <td>6.261156</td>\n",
       "      <td>1.066245</td>\n",
       "      <td>10.693371</td>\n",
       "      <td>...</td>\n",
       "      <td>0.0</td>\n",
       "      <td>NaN</td>\n",
       "      <td>NaN</td>\n",
       "      <td>50.0</td>\n",
       "      <td>47.423623</td>\n",
       "      <td>100.0</td>\n",
       "      <td>NaN</td>\n",
       "      <td>57.657900</td>\n",
       "      <td>BX01</td>\n",
       "      <td>BX01</td>\n",
       "    </tr>\n",
       "  </tbody>\n",
       "</table>\n",
       "<p>5 rows × 792 columns</p>\n",
       "</div>"
      ],
      "text/plain": [
       "   Pop25t29E   Pop25t29M  Pop25t29P  Pop25t29Z  Pop25t29C  Pop40t44E  \\\n",
       "0     2310.0  370.905648   7.190214   1.120307   9.760803     2216.0   \n",
       "1     5404.0  652.869819   9.362764   1.093873   7.344214     3732.0   \n",
       "2     2928.0  538.426411   9.763254   1.733736  11.178651     1500.0   \n",
       "3     3444.0  489.737685   9.043405   1.236867   8.644393     2470.0   \n",
       "4     2976.0  453.673892   8.299866   1.211234   9.267124     2245.0   \n",
       "\n",
       "    Pop40t44M  Pop40t44P  Pop40t44Z  Pop40t44C  ...  AsnOkinwP  AsnOkinwZ  \\\n",
       "0  287.956594   6.897625   0.855446   7.899350  ...        0.0        NaN   \n",
       "1  483.424244   6.465921   0.813614   7.874462  ...        0.0        NaN   \n",
       "2  295.978040   5.001667   0.957573  11.995057  ...        0.0        NaN   \n",
       "3  375.532955   6.485834   0.953231   9.242409  ...        0.0        NaN   \n",
       "4  394.908850   6.261156   1.066245  10.693371  ...        0.0        NaN   \n",
       "\n",
       "   AsnOkinwC  Asn1RcE     Asn1RcM  Asn1RcP  Asn1RcZ    Asn1RcC  GEO_ID  NAME  \n",
       "0        NaN   3165.0  551.238605    100.0      NaN  10.587661    BX31  BX31  \n",
       "1        NaN   2324.0  443.419666    100.0      NaN  11.598796    BX05  BX05  \n",
       "2        NaN    548.0  203.592731    100.0      NaN  22.584777    BX06  BX06  \n",
       "3        NaN   1186.0  366.243089    100.0      NaN  18.772359    BX07  BX07  \n",
       "4        NaN     50.0   47.423623    100.0      NaN  57.657900    BX01  BX01  \n",
       "\n",
       "[5 rows x 792 columns]"
      ]
     },
     "execution_count": 3,
     "metadata": {},
     "output_type": "execute_result"
    }
   ],
   "source": [
    "df.head()"
   ]
  },
  {
   "cell_type": "code",
   "execution_count": 4,
   "metadata": {},
   "outputs": [
    {
     "data": {
      "text/plain": [
       "(2480, 792)"
      ]
     },
     "execution_count": 4,
     "metadata": {},
     "output_type": "execute_result"
    }
   ],
   "source": [
    "df.shape"
   ]
  },
  {
   "cell_type": "code",
   "execution_count": 7,
   "metadata": {},
   "outputs": [],
   "source": [
    "with open('data/demo_meta_lookup.json', 'r') as f:\n",
    "    meta_lookup = json.load(f)"
   ]
  },
  {
   "cell_type": "code",
   "execution_count": 9,
   "metadata": {},
   "outputs": [],
   "source": [
    "var = list(meta_lookup.keys())"
   ]
  },
  {
   "cell_type": "code",
   "execution_count": 29,
   "metadata": {},
   "outputs": [],
   "source": [
    "r = []\n",
    "for i in var: \n",
    "    cols = ['GEO_ID', 'NAME', i+'C', i+'E', i+'M', i+'P', i+'Z']\n",
    "    dff = df.loc[:, cols]\n",
    "    dff.columns=['geoid', 'geoname', 'c', 'e', 'm', 'p', 'z']\n",
    "    dff['variable'] = i\n",
    "    r.append(dff)"
   ]
  },
  {
   "cell_type": "code",
   "execution_count": 30,
   "metadata": {},
   "outputs": [],
   "source": [
    "result = pd.concat(r)"
   ]
  },
  {
   "cell_type": "code",
   "execution_count": 31,
   "metadata": {},
   "outputs": [
    {
     "data": {
      "text/plain": [
       "(391840, 8)"
      ]
     },
     "execution_count": 31,
     "metadata": {},
     "output_type": "execute_result"
    }
   ],
   "source": [
    "result.shape"
   ]
  },
  {
   "cell_type": "code",
   "execution_count": 32,
   "metadata": {},
   "outputs": [
    {
     "data": {
      "text/html": [
       "<div>\n",
       "<style scoped>\n",
       "    .dataframe tbody tr th:only-of-type {\n",
       "        vertical-align: middle;\n",
       "    }\n",
       "\n",
       "    .dataframe tbody tr th {\n",
       "        vertical-align: top;\n",
       "    }\n",
       "\n",
       "    .dataframe thead th {\n",
       "        text-align: right;\n",
       "    }\n",
       "</style>\n",
       "<table border=\"1\" class=\"dataframe\">\n",
       "  <thead>\n",
       "    <tr style=\"text-align: right;\">\n",
       "      <th></th>\n",
       "      <th>geoid</th>\n",
       "      <th>geoname</th>\n",
       "      <th>c</th>\n",
       "      <th>e</th>\n",
       "      <th>m</th>\n",
       "      <th>p</th>\n",
       "      <th>z</th>\n",
       "      <th>variable</th>\n",
       "    </tr>\n",
       "  </thead>\n",
       "  <tbody>\n",
       "    <tr>\n",
       "      <th>0</th>\n",
       "      <td>BX31</td>\n",
       "      <td>BX31</td>\n",
       "      <td>9.760803</td>\n",
       "      <td>2310.0</td>\n",
       "      <td>370.905648</td>\n",
       "      <td>7.190214</td>\n",
       "      <td>1.120307</td>\n",
       "      <td>Pop25t29</td>\n",
       "    </tr>\n",
       "    <tr>\n",
       "      <th>1</th>\n",
       "      <td>BX05</td>\n",
       "      <td>BX05</td>\n",
       "      <td>7.344214</td>\n",
       "      <td>5404.0</td>\n",
       "      <td>652.869819</td>\n",
       "      <td>9.362764</td>\n",
       "      <td>1.093873</td>\n",
       "      <td>Pop25t29</td>\n",
       "    </tr>\n",
       "    <tr>\n",
       "      <th>2</th>\n",
       "      <td>BX06</td>\n",
       "      <td>BX06</td>\n",
       "      <td>11.178651</td>\n",
       "      <td>2928.0</td>\n",
       "      <td>538.426411</td>\n",
       "      <td>9.763254</td>\n",
       "      <td>1.733736</td>\n",
       "      <td>Pop25t29</td>\n",
       "    </tr>\n",
       "    <tr>\n",
       "      <th>3</th>\n",
       "      <td>BX07</td>\n",
       "      <td>BX07</td>\n",
       "      <td>8.644393</td>\n",
       "      <td>3444.0</td>\n",
       "      <td>489.737685</td>\n",
       "      <td>9.043405</td>\n",
       "      <td>1.236867</td>\n",
       "      <td>Pop25t29</td>\n",
       "    </tr>\n",
       "    <tr>\n",
       "      <th>4</th>\n",
       "      <td>BX01</td>\n",
       "      <td>BX01</td>\n",
       "      <td>9.267124</td>\n",
       "      <td>2976.0</td>\n",
       "      <td>453.673892</td>\n",
       "      <td>8.299866</td>\n",
       "      <td>1.211234</td>\n",
       "      <td>Pop25t29</td>\n",
       "    </tr>\n",
       "  </tbody>\n",
       "</table>\n",
       "</div>"
      ],
      "text/plain": [
       "  geoid geoname          c       e           m         p         z  variable\n",
       "0  BX31    BX31   9.760803  2310.0  370.905648  7.190214  1.120307  Pop25t29\n",
       "1  BX05    BX05   7.344214  5404.0  652.869819  9.362764  1.093873  Pop25t29\n",
       "2  BX06    BX06  11.178651  2928.0  538.426411  9.763254  1.733736  Pop25t29\n",
       "3  BX07    BX07   8.644393  3444.0  489.737685  9.043405  1.236867  Pop25t29\n",
       "4  BX01    BX01   9.267124  2976.0  453.673892  8.299866  1.211234  Pop25t29"
      ]
     },
     "execution_count": 32,
     "metadata": {},
     "output_type": "execute_result"
    }
   ],
   "source": [
    "result.head()"
   ]
  },
  {
   "cell_type": "code",
   "execution_count": 34,
   "metadata": {},
   "outputs": [],
   "source": [
    "result.to_csv('data/demo_final_pivoted.csv')"
   ]
  },
  {
   "cell_type": "markdown",
   "metadata": {},
   "source": [
    "### Spot checking"
   ]
  },
  {
   "cell_type": "code",
   "execution_count": 5,
   "metadata": {},
   "outputs": [
    {
     "data": {
      "text/html": [
       "<div>\n",
       "<style scoped>\n",
       "    .dataframe tbody tr th:only-of-type {\n",
       "        vertical-align: middle;\n",
       "    }\n",
       "\n",
       "    .dataframe tbody tr th {\n",
       "        vertical-align: top;\n",
       "    }\n",
       "\n",
       "    .dataframe thead th {\n",
       "        text-align: right;\n",
       "    }\n",
       "</style>\n",
       "<table border=\"1\" class=\"dataframe\">\n",
       "  <thead>\n",
       "    <tr style=\"text-align: right;\">\n",
       "      <th></th>\n",
       "      <th>Pop25t29E</th>\n",
       "      <th>Pop25t29M</th>\n",
       "      <th>Pop25t29C</th>\n",
       "      <th>Pop25t29P</th>\n",
       "      <th>Pop25t29Z</th>\n",
       "    </tr>\n",
       "  </thead>\n",
       "  <tbody>\n",
       "    <tr>\n",
       "      <th>51</th>\n",
       "      <td>4617.0</td>\n",
       "      <td>466.293899</td>\n",
       "      <td>6.139513</td>\n",
       "      <td>11.970754</td>\n",
       "      <td>1.135794</td>\n",
       "    </tr>\n",
       "  </tbody>\n",
       "</table>\n",
       "</div>"
      ],
      "text/plain": [
       "    Pop25t29E   Pop25t29M  Pop25t29C  Pop25t29P  Pop25t29Z\n",
       "51     4617.0  466.293899   6.139513  11.970754   1.135794"
      ]
     },
     "execution_count": 5,
     "metadata": {},
     "output_type": "execute_result"
    }
   ],
   "source": [
    "#estimate, sex and age - total population\n",
    "g = 'Pop25t29'\n",
    "df[df['GEO_ID']=='BK69'][[g+'E', g+'M', g+'C', g+'P', g+'Z']]"
   ]
  },
  {
   "cell_type": "code",
   "execution_count": null,
   "metadata": {},
   "outputs": [],
   "source": []
  }
 ],
 "metadata": {
  "kernelspec": {
   "display_name": "Python 3",
   "language": "python",
   "name": "python3"
  },
  "language_info": {
   "codemirror_mode": {
    "name": "ipython",
    "version": 3
   },
   "file_extension": ".py",
   "mimetype": "text/x-python",
   "name": "python",
   "nbconvert_exporter": "python",
   "pygments_lexer": "ipython3",
   "version": "3.6.8"
  }
 },
 "nbformat": 4,
 "nbformat_minor": 4
}
