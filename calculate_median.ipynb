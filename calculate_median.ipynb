{
 "cells": [
  {
   "cell_type": "code",
   "execution_count": 65,
   "metadata": {},
   "outputs": [],
   "source": [
    "import requests\n",
    "import pandas as pd\n",
    "import numpy as np\n",
    "import functools \n",
    "import math\n",
    "import json"
   ]
  },
  {
   "cell_type": "markdown",
   "metadata": {},
   "source": [
    "https://github.com/NYCPlanning/labs-factfinder-api/blob/develop/special-calculations/data/bins.js"
   ]
  },
  {
   "cell_type": "code",
   "execution_count": 66,
   "metadata": {},
   "outputs": [],
   "source": [
    "mdage = {'popu5': [0, 5],\n",
    " 'pop5t9': [5, 9],\n",
    " 'pop10t14': [10, 14],\n",
    " 'pop15t19': [15, 19],\n",
    " 'pop20t24': [20, 24],\n",
    " 'pop25t29': [25, 29],\n",
    " 'pop30t34': [30, 34],\n",
    " 'pop35t39': [35, 39],\n",
    " 'pop40t44': [40, 44],\n",
    " 'pop45t49': [45, 49],\n",
    " 'pop50t54': [50, 54],\n",
    " 'pop55t59': [55, 59],\n",
    " 'pop60t64': [60, 64],\n",
    " 'pop65t69': [65, 69],\n",
    " 'pop70t74': [70, 74],\n",
    " 'pop75t79': [75, 79],\n",
    " 'pop80t84': [80, 84],\n",
    " 'pop85pl': [85, 115]}\n",
    "\n",
    "mdhhinc = {'mdhhiu10': [0, 9999],\n",
    " 'mdhhi10t14': [10000, 14999],\n",
    " 'mdhhi15t19': [15000, 19999],\n",
    " 'mdhhi20t24': [20000, 24999],\n",
    " 'mdhhi25t29': [25000, 29999],\n",
    " 'mdhhi30t34': [30000, 34999],\n",
    " 'mdhhi35t39': [35000, 39999],\n",
    " 'mdhhi40t44': [40000, 44999],\n",
    " 'mdhhi45t49': [45000, 49999],\n",
    " 'mdhhi50t59': [50000, 59999],\n",
    " 'mdhhi60t74': [60000, 74999],\n",
    " 'mdhhi75t99': [75000, 99999],\n",
    " 'mdhi100t124': [100000, 124999],\n",
    " 'mdhi125t149': [125000, 149999],\n",
    " 'mdhi150t199': [150000, 199999],\n",
    " 'mdhhi200pl': [200000, 9999999]}\n",
    "\n",
    "mdfaminc = {\n",
    " 'mdfamiu10': [0, 9999],\n",
    " 'mdfami10t14': [10000, 14999],\n",
    " 'mdfami15t19': [15000, 19999],\n",
    " 'mdfami20t24': [20000, 24999],\n",
    " 'mdfami25t29': [25000, 29999],\n",
    " 'mdfami30t34': [30000, 34999],\n",
    " 'mdfami35t39': [35000, 39999],\n",
    " 'mdfami40t44': [40000, 44999],\n",
    " 'mdfami45t49': [45000, 49999],\n",
    " 'mdfami50t59': [50000, 59999],\n",
    " 'mdfami60t74': [60000, 74999],\n",
    " 'mdfami75t99': [75000, 99999],\n",
    " 'mdfi100t124': [100000, 124999],\n",
    " 'mdfi125t149': [125000, 149999],\n",
    " 'mdfi150t199': [150000, 199999],\n",
    " 'mdfami200pl': [200000, 9999999]}\n",
    "\n",
    "mdnfinc = {'nfmiu10': [0, 9999],\n",
    " 'nfmi10t14': [10000, 14999],\n",
    " 'nfmi15t19': [15000, 19999],\n",
    " 'nfmi20t24': [20000, 24999],\n",
    " 'nfmi25t29': [25000, 29999],\n",
    " 'nfmi30t34': [30000, 34999],\n",
    " 'nfmi35t39': [35000, 39999],\n",
    " 'nfmi40t44': [40000, 44999],\n",
    " 'nfmi45t49': [45000, 49999],\n",
    " 'nfmi50t59': [50000, 59999],\n",
    " 'nfmi60t74': [60000, 74999],\n",
    " 'nfmi75t99': [75000, 99999],\n",
    " 'nf100t124': [100000, 124999],\n",
    " 'nf125t149': [125000, 149999],\n",
    " 'nf150t199': [150000, 199999],\n",
    " 'nfi200pl': [200000, 9999999]}\n",
    "\n",
    "mdewrk = {'ernu2pt5k': [0, 2499],\n",
    " 'ern2pt5t5': [2500, 4999],\n",
    " 'ern5t7pt5': [5000, 7499],\n",
    " 'e7pt5t10': [7500, 9999],\n",
    " 'e10t12pt5': [10000, 12499],\n",
    " 'e12pt5t15': [12500, 14999],\n",
    " 'e15t17pt5': [15000, 17499],\n",
    " 'e17pt5t20': [17500, 19999],\n",
    " 'e20t22pt5': [20000, 22499],\n",
    " 'e22pt5t25': [22500, 24999],\n",
    " 'ern25t30': [25000, 29999],\n",
    " 'ern30t35': [30000, 34999],\n",
    " 'ern35t40': [35000, 39999],\n",
    " 'ern40t45': [40000, 44999],\n",
    " 'ern45t50': [45000, 49999],\n",
    " 'ern50t55': [50000, 54999],\n",
    " 'ern55t65': [55000, 64999],\n",
    " 'ern65t75': [65000, 74999],\n",
    " 'ern75t100': [75000, 99999],\n",
    " 'ern100pl': [100000, 250000]}\n",
    "\n",
    "mdemftwrk = {'mftu2pt5k': [0, 2499],\n",
    " 'mft2p5t5': [2500, 4999],\n",
    " 'mft5t7p5': [5000, 7499],\n",
    " 'mft7p5t10': [7500, 9999],\n",
    " 'mf10t12p5': [10000, 12499],\n",
    " 'mf12p5t15': [12500, 14999],\n",
    " 'mf15t17p5': [15000, 17499],\n",
    " 'mf17p5t20': [17500, 19999],\n",
    " 'mf20t22p5': [20000, 22499],\n",
    " 'mf22p5t25': [22500, 24999],\n",
    " 'mft25t30': [25000, 29999],\n",
    " 'mft30t35': [30000, 34999],\n",
    " 'mft35t40': [35000, 39999],\n",
    " 'mft40t45': [40000, 44999],\n",
    " 'mft45t50': [45000, 49999],\n",
    " 'mft50t55': [50000, 54999],\n",
    " 'mft55t65': [55000, 64999],\n",
    " 'mft65t75': [65000, 74999],\n",
    " 'mft75t100': [75000, 99999],\n",
    " 'mft100pl': [100000, 250000]}\n",
    "\n",
    "mdefftwrk= {'fftu2pt5k': [0, 2499],\n",
    " 'fft2p5t5': [2500, 4999],\n",
    " 'fft5t7p5': [5000, 7499],\n",
    " 'fft7p5t10': [7500, 9999],\n",
    " 'ff10t12p5': [10000, 12499],\n",
    " 'ff12p5t15': [12500, 14999],\n",
    " 'ff15t17p5': [15000, 17499],\n",
    " 'ff17p5t20': [17500, 19999],\n",
    " 'ff20t22p5': [20000, 22499],\n",
    " 'ff22p5t25': [22500, 24999],\n",
    " 'fft25t30': [25000, 29999],\n",
    " 'fft30t35': [30000, 34999],\n",
    " 'fft35t40': [35000, 39999],\n",
    " 'fft40t45': [40000, 44999],\n",
    " 'fft45t50': [45000, 49999],\n",
    " 'fft50t55': [50000, 54999],\n",
    " 'fft55t65': [55000, 64999],\n",
    " 'fft65t75': [65000, 74999],\n",
    " 'fft75t100': [75000, 99999],\n",
    " 'fft100pl': [100000, 250000]}\n",
    "\n",
    "mdvl = {'ovlu10': [0, 9999],\n",
    " 'ovl10t14': [10000, 14999],\n",
    " 'ovl15t19': [15000, 19999],\n",
    " 'ovl20t24': [20000, 24999],\n",
    " 'ovl25t29': [25000, 29999],\n",
    " 'ovl30t34': [30000, 34999],\n",
    " 'ovl35t39': [35000, 39999],\n",
    " 'ovl40t49': [40000, 49999],\n",
    " 'ovl50t59': [50000, 59999],\n",
    " 'ovl60t69': [60000, 69999],\n",
    " 'ovl70t79': [70000, 79999],\n",
    " 'ovl80t89': [80000, 89999],\n",
    " 'ovl90t99': [90000, 99999],\n",
    " 'ov100t124': [100000, 124999],\n",
    " 'ov125t149': [125000, 149999],\n",
    " 'ov150t174': [150000, 174999],\n",
    " 'ov175t199': [175000, 199999],\n",
    " 'ov200t249': [200000, 249999],\n",
    " 'ov250t299': [250000, 299999],\n",
    " 'ov300t399': [300000, 399999],\n",
    " 'ov400t499': [400000, 499999],\n",
    " 'ov500t749': [500000, 749999],\n",
    " 'ov750t999': [750000, 999999],\n",
    " 'ov1t149m': [1000000, 1499999],\n",
    " 'ov150t199m': [1500000, 1999999],\n",
    " 'ov2milpl': [2000000, 5000000]}\n",
    "\n",
    "mdgr = {'ru100': [0, 99],\n",
    " 'r100t149': [100, 149],\n",
    " 'r150t199': [150, 199],\n",
    " 'r200t249': [200, 249],\n",
    " 'r250t299': [250, 299],\n",
    " 'r300t349': [300, 349],\n",
    " 'r350t399': [350, 399],\n",
    " 'r400t449': [400, 449],\n",
    " 'r450t499': [450, 499],\n",
    " 'r500t549': [500, 549],\n",
    " 'r550t599': [550, 599],\n",
    " 'r600t649': [600, 649],\n",
    " 'r650t699': [650, 699],\n",
    " 'r700t749': [700, 749],\n",
    " 'r750t799': [750, 799],\n",
    " 'r800t899': [800, 899],\n",
    " 'r900t999': [900, 999],\n",
    " 'r1kt1249': [1000, 1249],\n",
    " 'r1250t1p5': [1250, 1499],\n",
    " 'r1p5t1999': [1500, 1999],\n",
    " 'r2kt2499': [2000, 2499],\n",
    " 'r2p5t2999': [2500, 2999],\n",
    " 'r3kt3499': [3000, 3499],\n",
    " 'r3500pl': [3500, 9000]}\n",
    "\n",
    "mdrms = {'rms1': [0, 1499],\n",
    " 'rms2': [1500, 2499],\n",
    " 'rms3': [2500, 3499],\n",
    " 'rms4': [3500, 4499],\n",
    " 'rms5': [4500, 5499],\n",
    " 'rms6': [5500, 6499],\n",
    " 'rms7': [6500, 7499],\n",
    " 'rms8': [7500, 8499],\n",
    " 'rms9pl': [8500, 9000]}"
   ]
  },
  {
   "cell_type": "code",
   "execution_count": 67,
   "metadata": {},
   "outputs": [],
   "source": [
    "def get_median(buckets, row):\n",
    "    ordered = list(buckets.keys())\n",
    "    orderedE = [i+'e' for i in ordered]\n",
    "    N = row[orderedE].sum()\n",
    "    C = 0\n",
    "    i = 0\n",
    "    while C <= N/2 and i<=len(buckets.keys())-1:\n",
    "        C += int(row[orderedE[i]])\n",
    "        i += 1\n",
    "    i = i-1\n",
    "    if i == 0:\n",
    "        median = list(buckets.values())[0][1]\n",
    "    elif C == 0: \n",
    "        median =0\n",
    "    elif i == len(buckets.keys())-1:\n",
    "        median = list(buckets.values())[-1][1]\n",
    "    else: \n",
    "        C = C - int(row[orderedE[i]])\n",
    "        L = buckets[ordered[i]][0]\n",
    "        F = int(row[orderedE[i]])\n",
    "        W = buckets[ordered[i]][1] - buckets[ordered[i]][0]\n",
    "        median = L + (N/2 - C)*W/F\n",
    "    return median"
   ]
  },
  {
   "cell_type": "code",
   "execution_count": 93,
   "metadata": {},
   "outputs": [],
   "source": [
    "def get_median_moe(buckets, row, DF=1.5):\n",
    "    ordered = list(buckets.keys())\n",
    "    orderedE = [i+'e' for i in ordered]\n",
    "#     orderedE = [i for i in orderedE if int(row[i])>0]\n",
    "#     ordered = [i[0:-1] for i in orderedE]\n",
    "#     buckets = {k:v for (k,v) in buckets.items() if k in ordered}\n",
    "    B = row[orderedE].sum()\n",
    "    \n",
    "    if B == 0:\n",
    "        print(row['name'])\n",
    "        return np.nan\n",
    "    else: \n",
    "        se_50 = DF*(((93/(7*B))*2500))**0.5\n",
    "        \n",
    "        p_lower = 50 - se_50\n",
    "        p_upper = 50 + se_50\n",
    "        \n",
    "        try:\n",
    "            lower_bin = [ordered.index(k) for (k,v) in buckets.items() if p_lower<=v[1] and p_lower>v[0]][0] \n",
    "            upper_bin = [ordered.index(k) for (k,v) in buckets.items() if p_upper<=v[1] and p_upper>v[0]][0]\n",
    "        except:\n",
    "            return np.nan\n",
    "            print(row['name'], p_lower, p_upper, B, se_50)\n",
    "            print([ordered.index(k) for (k,v) in buckets.items() if p_lower<=v[1] and p_lower>v[0]])\n",
    "        if lower_bin == upper_bin:\n",
    "            A1 = min(buckets[ordered[lower_bin]])\n",
    "            A2 = min(buckets[ordered[lower_bin+1]])\n",
    "            C1 = row[orderedE[0:lower_bin]].sum()\n",
    "            C2 = row[orderedE[0:lower_bin+1]].sum()\n",
    "            try:\n",
    "                lowerbound = (p_lower - C1)*(A2-A1)/(C2-C1) + A1 \n",
    "                upperbound = (p_upper - C1)*(A2-A1)/(C2-C1) + A1\n",
    "            except: \n",
    "                print(f\"{row['name']}|{C1}|{C2}\")\n",
    "                lowerbound = np.nan\n",
    "                upperbound = np.nan\n",
    "        else:\n",
    "            A1_l = min(buckets[ordered[lower_bin]])\n",
    "            A2_l = min(buckets[ordered[lower_bin+1]])\n",
    "            C1_l = row[orderedE[0:lower_bin]].sum()\n",
    "            C2_l = row[orderedE[0:lower_bin+1]].sum()\n",
    "            \n",
    "            A1_u = min(buckets[ordered[upper_bin]])\n",
    "            A2_u = min(buckets[ordered[upper_bin+1]])\n",
    "            C1_u = row[orderedE[0:upper_bin]].sum()\n",
    "            C2_u = row[orderedE[0:upper_bin+1]].sum()\n",
    "            try:\n",
    "                lowerbound = (p_lower - C1_l)*(A2_l-A1_l)/(C2_l-C1_l) + A1_l \n",
    "                upperbound = (p_upper - C1_u)*(A2_u-A1_u)/(C2_u-C1_u) + A1_u\n",
    "            except: \n",
    "                print(f\"{row['name']}|{p_lower}|{p_upper}|{C1_l}|{C2_l}|{C1_u}|{C2_u}\")\n",
    "                lowerbound = np.nan\n",
    "                upperbound = np.nan\n",
    "                      \n",
    "        return (upperbound - lowerbound)*1.645/2"
   ]
  },
  {
   "cell_type": "code",
   "execution_count": 69,
   "metadata": {},
   "outputs": [],
   "source": [
    "def get_median_moe(buckets, row, DF=1.5):\n",
    "    try: \n",
    "        ordered = list(buckets.keys())\n",
    "        orderedE = [i+'e' for i in ordered]\n",
    "        B = row[orderedE].sum()\n",
    "        se_50 = DF*(((93/(7*B))*2500))**0.5\n",
    "\n",
    "        p_lower = 50 - se_50\n",
    "        p_upper = 50 + se_50\n",
    "\n",
    "        lower_bin = [ordered.index(k) for (k,v) in buckets.items() if p_lower<=v[1] and p_lower>v[0]][0] \n",
    "        upper_bin = [ordered.index(k) for (k,v) in buckets.items() if p_upper<=v[1] and p_upper>v[0]][0]\n",
    "\n",
    "        if lower_bin == upper_bin:\n",
    "            A1 = min(buckets[ordered[lower_bin]])\n",
    "            A2 = min(buckets[ordered[lower_bin+1]])\n",
    "            C1 = row[orderedE[0:lower_bin]].sum()/B*100\n",
    "            C2 = row[orderedE[0:lower_bin+1]].sum()/B*100\n",
    "\n",
    "            lowerbound = (p_lower - C1)*(A2-A1)/(C2-C1) + A1 \n",
    "            upperbound = (p_upper - C1)*(A2-A1)/(C2-C1) + A1\n",
    "\n",
    "        else:\n",
    "            A1_l = min(buckets[ordered[lower_bin]])\n",
    "            A2_l = min(buckets[ordered[lower_bin+1]])\n",
    "            C1_l = row[orderedE[0:lower_bin]].sum()/B*100\n",
    "            C2_l = row[orderedE[0:lower_bin+1]].sum()/B*100\n",
    "\n",
    "            A1_u = min(buckets[ordered[upper_bin]])\n",
    "            A2_u = min(buckets[ordered[upper_bin+1]])\n",
    "            C1_u = row[orderedE[0:upper_bin]].sum()/B*100\n",
    "            C2_u = row[orderedE[0:upper_bin+1]].sum()/B*100\n",
    "\n",
    "            lowerbound = (p_lower - C1_l)*(A2_l-A1_l)/(C2_l-C1_l) + A1_l \n",
    "            upperbound = (p_upper - C1_u)*(A2_u-A1_u)/(C2_u-C1_u) + A1_u\n",
    "\n",
    "        return (upperbound - lowerbound)*1.645/2\n",
    "    except:\n",
    "        return np.nan"
   ]
  },
  {
   "cell_type": "markdown",
   "metadata": {},
   "source": [
    "# Demo"
   ]
  },
  {
   "cell_type": "code",
   "execution_count": 70,
   "metadata": {},
   "outputs": [],
   "source": [
    "df = pd.read_csv('data/demo_final.csv', index_col=False)\n",
    "df.columns = map(str.lower, df.columns)"
   ]
  },
  {
   "cell_type": "code",
   "execution_count": 71,
   "metadata": {},
   "outputs": [],
   "source": [
    "df['mdagee'] = df.apply(lambda row: get_median(mdage, row), axis=1)"
   ]
  },
  {
   "cell_type": "code",
   "execution_count": 72,
   "metadata": {},
   "outputs": [],
   "source": [
    "df['mdagem'] = df.apply(lambda row: get_median_moe(mdage, row), axis=1)"
   ]
  },
  {
   "cell_type": "code",
   "execution_count": 73,
   "metadata": {},
   "outputs": [
    {
     "data": {
      "text/html": [
       "<div>\n",
       "<style scoped>\n",
       "    .dataframe tbody tr th:only-of-type {\n",
       "        vertical-align: middle;\n",
       "    }\n",
       "\n",
       "    .dataframe tbody tr th {\n",
       "        vertical-align: top;\n",
       "    }\n",
       "\n",
       "    .dataframe thead th {\n",
       "        text-align: right;\n",
       "    }\n",
       "</style>\n",
       "<table border=\"1\" class=\"dataframe\">\n",
       "  <thead>\n",
       "    <tr style=\"text-align: right;\">\n",
       "      <th></th>\n",
       "      <th>name</th>\n",
       "      <th>mdagee</th>\n",
       "      <th>mdagem</th>\n",
       "      <th>geo_id</th>\n",
       "    </tr>\n",
       "  </thead>\n",
       "  <tbody>\n",
       "    <tr>\n",
       "      <th>158</th>\n",
       "      <td>QN99</td>\n",
       "      <td>60.75</td>\n",
       "      <td>NaN</td>\n",
       "      <td>QN99</td>\n",
       "    </tr>\n",
       "  </tbody>\n",
       "</table>\n",
       "</div>"
      ],
      "text/plain": [
       "     name  mdagee  mdagem geo_id\n",
       "158  QN99   60.75     NaN   QN99"
      ]
     },
     "execution_count": 73,
     "metadata": {},
     "output_type": "execute_result"
    }
   ],
   "source": [
    "df.loc[df.name == 'QN99', ['name','mdagee', 'mdagem', 'geo_id']]"
   ]
  },
  {
   "cell_type": "code",
   "execution_count": 94,
   "metadata": {},
   "outputs": [
    {
     "name": "stdout",
     "output_type": "stream",
     "text": [
      "QN99|26.812906272690977|73.18709372730902|13.0|13.0|93.0|104.0\n"
     ]
    },
    {
     "data": {
      "text/plain": [
       "158   NaN\n",
       "dtype: float64"
      ]
     },
     "execution_count": 94,
     "metadata": {},
     "output_type": "execute_result"
    }
   ],
   "source": [
    "df[df.name == 'QN99'].apply(lambda row: get_median_moe(mdage, row), axis=1)"
   ]
  },
  {
   "cell_type": "code",
   "execution_count": 78,
   "metadata": {},
   "outputs": [
    {
     "data": {
      "text/plain": [
       "[{'popu5e': 5.0,\n",
       "  'pop5t9e': 0.0,\n",
       "  'pop10t14e': 0.0,\n",
       "  'pop15t19e': 8.0,\n",
       "  'pop20t24e': 0.0,\n",
       "  'pop25t29e': 0.0,\n",
       "  'pop30t34e': 0.0,\n",
       "  'pop35t39e': 23.0,\n",
       "  'pop40t44e': 23.0,\n",
       "  'pop45t49e': 0.0,\n",
       "  'pop50t54e': 4.0,\n",
       "  'pop55t59e': 5.0,\n",
       "  'pop60t64e': 8.0,\n",
       "  'pop65t69e': 17.0,\n",
       "  'pop70t74e': 11.0,\n",
       "  'pop75t79e': 13.0,\n",
       "  'pop80t84e': 0.0,\n",
       "  'pop85ple': 22.0,\n",
       "  'mdagee': 60.75}]"
      ]
     },
     "execution_count": 78,
     "metadata": {},
     "output_type": "execute_result"
    }
   ],
   "source": [
    "df.loc[df.name == 'QN99', [i+'e' for i in mdage.keys()]+['mdagee']].to_dict('records')"
   ]
  },
  {
   "cell_type": "code",
   "execution_count": 81,
   "metadata": {},
   "outputs": [],
   "source": [
    "d = {'popu5e': 5.0,\n",
    "  'pop5t9e': 0.0,\n",
    "  'pop10t14e': 0.0,\n",
    "  'pop15t19e': 8.0,\n",
    "  'pop20t24e': 0.0,\n",
    "  'pop25t29e': 0.0,\n",
    "  'pop30t34e': 0.0,\n",
    "  'pop35t39e': 23.0,\n",
    "  'pop40t44e': 23.0,\n",
    "  'pop45t49e': 0.0,\n",
    "  'pop50t54e': 4.0,\n",
    "  'pop55t59e': 5.0,\n",
    "  'pop60t64e': 8.0,\n",
    "  'pop65t69e': 17.0,\n",
    "  'pop70t74e': 11.0,\n",
    "  'pop75t79e': 13.0,\n",
    "  'pop80t84e': 0.0,\n",
    "  'pop85ple': 22.0}"
   ]
  },
  {
   "cell_type": "code",
   "execution_count": 87,
   "metadata": {},
   "outputs": [
    {
     "data": {
      "text/plain": [
       "68"
      ]
     },
     "execution_count": 87,
     "metadata": {},
     "output_type": "execute_result"
    }
   ],
   "source": [
    "13+46+9"
   ]
  },
  {
   "cell_type": "code",
   "execution_count": 82,
   "metadata": {},
   "outputs": [
    {
     "data": {
      "text/plain": [
       "139.0"
      ]
     },
     "execution_count": 82,
     "metadata": {},
     "output_type": "execute_result"
    }
   ],
   "source": [
    "sum(d.values())"
   ]
  },
  {
   "cell_type": "code",
   "execution_count": 86,
   "metadata": {},
   "outputs": [
    {
     "name": "stdout",
     "output_type": "stream",
     "text": [
      "68 60 8 4\n"
     ]
    }
   ],
   "source": [
    "buckets = mdage\n",
    "row = d\n",
    "ordered = list(buckets.keys())\n",
    "orderedE = [i+'e' for i in ordered]\n",
    "N = sum(d.values())\n",
    "C = 0\n",
    "i = 0\n",
    "while C <= N/2 and i<=len(buckets.keys())-1:\n",
    "    C += int(row[orderedE[i]])\n",
    "    i += 1\n",
    "i = i-1\n",
    "if i == 0:\n",
    "    median = list(buckets.values())[0][1]\n",
    "elif C == 0: \n",
    "    median = 0\n",
    "elif i == len(buckets.keys())-1:\n",
    "    median = list(buckets.values())[-1][0]\n",
    "else: \n",
    "    C = C - int(row[orderedE[i]])\n",
    "    L = buckets[ordered[i]][0]\n",
    "    F = int(row[orderedE[i]])\n",
    "    W = buckets[ordered[i]][1] - buckets[ordered[i]][0]\n",
    "    print(C, L, F, W)\n",
    "    median = L + (N/2 - C)*W/F"
   ]
  },
  {
   "cell_type": "code",
   "execution_count": 88,
   "metadata": {},
   "outputs": [
    {
     "data": {
      "text/plain": [
       "60.75"
      ]
     },
     "execution_count": 88,
     "metadata": {},
     "output_type": "execute_result"
    }
   ],
   "source": [
    "60 + (139/2 - 68)*4/8"
   ]
  },
  {
   "cell_type": "code",
   "execution_count": 75,
   "metadata": {},
   "outputs": [],
   "source": [
    "df['mdagez'] = np.nan\n",
    "df['mdagep'] = np.nan"
   ]
  },
  {
   "cell_type": "markdown",
   "metadata": {},
   "source": [
    "# Economics"
   ]
  },
  {
   "cell_type": "code",
   "execution_count": 642,
   "metadata": {},
   "outputs": [],
   "source": [
    "df = pd.read_csv('data/econ_final.csv', index_col=False)"
   ]
  },
  {
   "cell_type": "code",
   "execution_count": 643,
   "metadata": {},
   "outputs": [],
   "source": [
    "df.columns = map(str.lower, df.columns)"
   ]
  },
  {
   "cell_type": "code",
   "execution_count": 644,
   "metadata": {},
   "outputs": [],
   "source": [
    "df['mdhhince'] = df.apply(lambda row: get_median(mdhhinc, row), axis=1)\n",
    "df['mdhhincm'] = \n",
    "df['mdhhincz'] = np.nan\n",
    "df['mdhhincp'] = np.nan"
   ]
  },
  {
   "cell_type": "code",
   "execution_count": null,
   "metadata": {},
   "outputs": [],
   "source": [
    "df['mdfamince'] = df.apply(lambda row: get_median(mdfaminc, row), axis=1)\n",
    "df['mdfamincz'] = np.nan\n",
    "df['mdfamincp'] = np.nan"
   ]
  },
  {
   "cell_type": "code",
   "execution_count": null,
   "metadata": {},
   "outputs": [],
   "source": [
    "df['mdnfince'] = df.apply(lambda row: get_median(mdnfinc, row), axis=1)\n",
    "df['mdnfincz'] = np.nan\n",
    "df['mdnfincp'] = np.nan"
   ]
  },
  {
   "cell_type": "code",
   "execution_count": null,
   "metadata": {},
   "outputs": [],
   "source": [
    "df['mdemftwrke'] = df.apply(lambda row: get_median(mdemftwrk, row), axis=1)\n",
    "df['mdemftwrkz'] = np.nan\n",
    "df['mdemftwrkp'] = np.nan"
   ]
  },
  {
   "cell_type": "code",
   "execution_count": null,
   "metadata": {},
   "outputs": [],
   "source": [
    "df['mdefftwrke'] = df.apply(lambda row: get_median(mdefftwrk, row), axis=1)\n",
    "df['mdefftwrkz'] = np.nan\n",
    "df['mdefftwrkp'] = np.nan"
   ]
  },
  {
   "cell_type": "code",
   "execution_count": 647,
   "metadata": {},
   "outputs": [
    {
     "data": {
      "text/html": [
       "<div>\n",
       "<style scoped>\n",
       "    .dataframe tbody tr th:only-of-type {\n",
       "        vertical-align: middle;\n",
       "    }\n",
       "\n",
       "    .dataframe tbody tr th {\n",
       "        vertical-align: top;\n",
       "    }\n",
       "\n",
       "    .dataframe thead th {\n",
       "        text-align: right;\n",
       "    }\n",
       "</style>\n",
       "<table border=\"1\" class=\"dataframe\">\n",
       "  <thead>\n",
       "    <tr style=\"text-align: right;\">\n",
       "      <th></th>\n",
       "      <th>mdhhince</th>\n",
       "      <th>name</th>\n",
       "      <th>geo_id</th>\n",
       "    </tr>\n",
       "  </thead>\n",
       "  <tbody>\n",
       "    <tr>\n",
       "      <th>0</th>\n",
       "      <td>64015.219027</td>\n",
       "      <td>BX31</td>\n",
       "      <td>BX31</td>\n",
       "    </tr>\n",
       "    <tr>\n",
       "      <th>1</th>\n",
       "      <td>35410.468349</td>\n",
       "      <td>BX05</td>\n",
       "      <td>BX05</td>\n",
       "    </tr>\n",
       "    <tr>\n",
       "      <th>2</th>\n",
       "      <td>27349.957265</td>\n",
       "      <td>BX06</td>\n",
       "      <td>BX06</td>\n",
       "    </tr>\n",
       "    <tr>\n",
       "      <th>3</th>\n",
       "      <td>36670.003671</td>\n",
       "      <td>BX07</td>\n",
       "      <td>BX07</td>\n",
       "    </tr>\n",
       "    <tr>\n",
       "      <th>4</th>\n",
       "      <td>22926.001984</td>\n",
       "      <td>BX01</td>\n",
       "      <td>BX01</td>\n",
       "    </tr>\n",
       "  </tbody>\n",
       "</table>\n",
       "</div>"
      ],
      "text/plain": [
       "       mdhhince  name geo_id\n",
       "0  64015.219027  BX31   BX31\n",
       "1  35410.468349  BX05   BX05\n",
       "2  27349.957265  BX06   BX06\n",
       "3  36670.003671  BX07   BX07\n",
       "4  22926.001984  BX01   BX01"
      ]
     },
     "execution_count": 647,
     "metadata": {},
     "output_type": "execute_result"
    }
   ],
   "source": [
    "df[['mdhhince', 'name', 'geo_id']].head()"
   ]
  },
  {
   "cell_type": "code",
   "execution_count": 372,
   "metadata": {},
   "outputs": [],
   "source": [
    "df['percapince'] = df['agip15ple']/df['pop_6e']\n",
    "df['percapincm'] = np.sqrt(df['agip15plm']**2 + (df['agip15ple']*df['pop_6m']/df['pop_6e'])**2)*df['pop_6e']\n",
    "df['percapincz'] = np.nan\n",
    "df['percapincp'] = np.nan"
   ]
  },
  {
   "cell_type": "code",
   "execution_count": 378,
   "metadata": {},
   "outputs": [],
   "source": [
    "df['mntrvtme'] = df['agttme']/(df['wrkr16ple']-df['cw_wrkdhme'])\n",
    "df['mntrvtmm'] = 1/df['wrkrnothme']*np.sqrt(df['agttmm']**2+(df['agttme']*df['wrkrnothmm']/df['wrkrnothme'])**2)\n",
    "df['mntrvtmz'] = np.nan\n",
    "df['mntrvtmp'] = np.nan"
   ]
  },
  {
   "cell_type": "code",
   "execution_count": 387,
   "metadata": {},
   "outputs": [],
   "source": [
    "df['mnhhince'] = df['aghhince']/df['hh2e']\n",
    "df['mnhhincm'] = 1/df['hh5e']*np.sqrt(df['aghhincm']**2+(df['aghhince']*df['hh5m']/df['hh5e'])**2)\n",
    "df['mnhhincz'] = np.nan\n",
    "df['mnhhincp'] = np.nan"
   ]
  },
  {
   "cell_type": "code",
   "execution_count": 406,
   "metadata": {},
   "outputs": [],
   "source": [
    "df['cni1864_2z'] = np.nan\n",
    "df['cni1864_2p'] = np.nan\n",
    "df['cvlf18t64p'] = np.nan\n",
    "df['cvlf18t64z'] = np.nan"
   ]
  },
  {
   "cell_type": "markdown",
   "metadata": {},
   "source": [
    "# Housing\n",
    "\n",
    "* missing `rntvace|RntVacE` as a column"
   ]
  },
  {
   "cell_type": "code",
   "execution_count": 54,
   "metadata": {},
   "outputs": [],
   "source": [
    "def hovacrtm(hovacue, vacsalee, vacsalem, hovacum):\n",
    "    if hovacue == 0:\n",
    "        return 0\n",
    "    elif vacsalee == 0:\n",
    "        return 0\n",
    "    elif vacsalem**2 - (vacsalee*hovacum/hovacue)**2 <0:\n",
    "        return math.sqrt(vacsalem**2 + (vacsalee*hovacum/hovacue)**2)/hovacue*100\n",
    "    else: \n",
    "        return math.sqrt(vacsalem**2 - (vacsalee*hovacum/hovacue)**2)/hovacue*100"
   ]
  },
  {
   "cell_type": "code",
   "execution_count": 55,
   "metadata": {},
   "outputs": [],
   "source": [
    "df = pd.read_csv('data/hous_final.csv', index_col=False)\n",
    "df.columns = map(str.lower, df.columns)"
   ]
  },
  {
   "cell_type": "code",
   "execution_count": 56,
   "metadata": {},
   "outputs": [],
   "source": [
    "df['hovacrte'] = 100*df['hovacue']/df['vacsalee']\n",
    "df['hovacrtm'] = df.apply(lambda row: hovacrtm(row['hovacue'], row['vacsalee'], row['vacsalem'], row['hovacum']), axis=1)\n",
    "df['hovacrtz'] = np.nan\n",
    "df['hovacrtp'] = np.nan"
   ]
  },
  {
   "cell_type": "code",
   "execution_count": 57,
   "metadata": {},
   "outputs": [],
   "source": [
    "# df['rntvacrte'] = 100*df['vacrnte']/df['rntvace']\n",
    "df['rntvacrtz'] = np.nan\n",
    "df['rntvacrtp'] = np.nan"
   ]
  },
  {
   "cell_type": "code",
   "execution_count": 58,
   "metadata": {},
   "outputs": [],
   "source": [
    "df['avghhsooce'] = df['popoochue']/df['oochu1e']\n",
    "df['avghhsoocm'] = (df['popoochum']**2 + (df['popoochue']*df['oochu4m']/df['oochu4e'])**2)**0.5/df['oochu4e']\n",
    "df['avghhsoocz'] = np.nan\n",
    "df['avghhsoocp'] = np.nan"
   ]
  },
  {
   "cell_type": "code",
   "execution_count": 59,
   "metadata": {},
   "outputs": [],
   "source": [
    "df['avghhsroce'] = df['poprtochue']/df['rochu1e']\n",
    "df['avghhsrocm'] = (df['poprtochum']**2 + (df['poprtochue']*df['rochu2m']/df['rochu2e'])**2)**0.5/df['rochu2e']\n",
    "df['avghhsrocz'] = np.nan\n",
    "df['avghhsrocp'] = np.nan"
   ]
  },
  {
   "cell_type": "markdown",
   "metadata": {},
   "source": [
    "# Social\n",
    "\n",
    "* column `fams3m` missing"
   ]
  },
  {
   "cell_type": "code",
   "execution_count": 36,
   "metadata": {},
   "outputs": [],
   "source": [
    "df = pd.read_csv('data/soci_final.csv', index_col=False)\n",
    "df.columns = map(str.lower, df.columns)"
   ]
  },
  {
   "cell_type": "code",
   "execution_count": 41,
   "metadata": {},
   "outputs": [],
   "source": [
    "df['avghhsze'] = df['hhpop1e']/df['hh1e']\n",
    "df['avghhszm'] = (df['hhpop1m']**2 + (df['hh4m']*df['hhpop1e']/df['hh4e'])**2)**0.5/df['hh4e']\n",
    "df['avghhszz'] = np.nan\n",
    "df['avghhszp'] = np.nan"
   ]
  },
  {
   "cell_type": "code",
   "execution_count": 51,
   "metadata": {},
   "outputs": [],
   "source": [
    "df['avgfmsze'] = df['popinfmse']/df['fam1e']\n",
    "# df['avgfmszm'] = (df['popinfmsm']**2 + (df['fams3m']*df['popinfmse']/df['fams3e'])**2)**0.5/df['fams3e']\n",
    "df['avgfmszz'] = np.nan\n",
    "df['avgfmszp'] = np.nan"
   ]
  }
 ],
 "metadata": {
  "kernelspec": {
   "display_name": "Python 3",
   "language": "python",
   "name": "python3"
  },
  "language_info": {
   "codemirror_mode": {
    "name": "ipython",
    "version": 3
   },
   "file_extension": ".py",
   "mimetype": "text/x-python",
   "name": "python",
   "nbconvert_exporter": "python",
   "pygments_lexer": "ipython3",
   "version": "3.6.8"
  }
 },
 "nbformat": 4,
 "nbformat_minor": 2
}
